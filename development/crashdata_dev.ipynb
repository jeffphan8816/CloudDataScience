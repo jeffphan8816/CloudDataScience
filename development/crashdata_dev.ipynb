{
 "cells": [
  {
   "cell_type": "code",
   "execution_count": 2,
   "metadata": {},
   "outputs": [],
   "source": [
    "import numpy\n",
    "import pandas as pd\n",
    "import requests\n",
    "import unittest\n",
    "from datetime import datetime"
   ]
  },
  {
   "cell_type": "markdown",
   "metadata": {},
   "source": [
    "### Preprocessing"
   ]
  },
  {
   "cell_type": "code",
   "execution_count": 3,
   "metadata": {},
   "outputs": [],
   "source": [
    "df = pd.read_csv('../dataset/sudo_tasmania_crash_2010_2020.csv')"
   ]
  },
  {
   "cell_type": "code",
   "execution_count": 4,
   "metadata": {},
   "outputs": [
    {
     "data": {
      "text/html": [
       "<div>\n",
       "<style scoped>\n",
       "    .dataframe tbody tr th:only-of-type {\n",
       "        vertical-align: middle;\n",
       "    }\n",
       "\n",
       "    .dataframe tbody tr th {\n",
       "        vertical-align: top;\n",
       "    }\n",
       "\n",
       "    .dataframe thead th {\n",
       "        text-align: right;\n",
       "    }\n",
       "</style>\n",
       "<table border=\"1\" class=\"dataframe\">\n",
       "  <thead>\n",
       "    <tr style=\"text-align: right;\">\n",
       "      <th></th>\n",
       "      <th>light_condition</th>\n",
       "      <th>crash_date</th>\n",
       "      <th>severity</th>\n",
       "      <th>location_description</th>\n",
       "      <th>centre_line</th>\n",
       "      <th>visited</th>\n",
       "      <th>id</th>\n",
       "      <th>report_date</th>\n",
       "      <th>description</th>\n",
       "      <th>vcrn</th>\n",
       "      <th>longitude</th>\n",
       "      <th>latitude</th>\n",
       "      <th>surface_type</th>\n",
       "      <th>speed_zone</th>\n",
       "    </tr>\n",
       "  </thead>\n",
       "  <tbody>\n",
       "    <tr>\n",
       "      <th>0</th>\n",
       "      <td>Daylight</td>\n",
       "      <td>2013-04-09T00:00:00.000+0000</td>\n",
       "      <td>Serious</td>\n",
       "      <td>West Tamar Highway, Riverside, West Tamar</td>\n",
       "      <td>Single broken</td>\n",
       "      <td>Yes</td>\n",
       "      <td>4073</td>\n",
       "      <td>2013-04-09T00:00:00.000+0000</td>\n",
       "      <td>171 - Left off carriageway into object or park...</td>\n",
       "      <td>13000144.0</td>\n",
       "      <td>147.071676</td>\n",
       "      <td>-41.390335</td>\n",
       "      <td>Sealed</td>\n",
       "      <td>100</td>\n",
       "    </tr>\n",
       "    <tr>\n",
       "      <th>1</th>\n",
       "      <td>Daylight</td>\n",
       "      <td>2013-04-08T00:00:00.000+0000</td>\n",
       "      <td>Property Damage Only</td>\n",
       "      <td>Intersection of Campbell Street and Liverpool ...</td>\n",
       "      <td>Single Continuous</td>\n",
       "      <td>No</td>\n",
       "      <td>4086</td>\n",
       "      <td>2013-04-09T00:00:00.000+0000</td>\n",
       "      <td>136 - Vehicles in parallel lane/ right turn si...</td>\n",
       "      <td>13000145.0</td>\n",
       "      <td>147.329838</td>\n",
       "      <td>-42.879023</td>\n",
       "      <td>Sealed</td>\n",
       "      <td>050</td>\n",
       "    </tr>\n",
       "  </tbody>\n",
       "</table>\n",
       "</div>"
      ],
      "text/plain": [
       "  light_condition                    crash_date              severity  \\\n",
       "0        Daylight  2013-04-09T00:00:00.000+0000               Serious   \n",
       "1        Daylight  2013-04-08T00:00:00.000+0000  Property Damage Only   \n",
       "\n",
       "                                location_description        centre_line  \\\n",
       "0          West Tamar Highway, Riverside, West Tamar      Single broken   \n",
       "1  Intersection of Campbell Street and Liverpool ...  Single Continuous   \n",
       "\n",
       "  visited    id                   report_date  \\\n",
       "0     Yes  4073  2013-04-09T00:00:00.000+0000   \n",
       "1      No  4086  2013-04-09T00:00:00.000+0000   \n",
       "\n",
       "                                         description        vcrn   longitude  \\\n",
       "0  171 - Left off carriageway into object or park...  13000144.0  147.071676   \n",
       "1  136 - Vehicles in parallel lane/ right turn si...  13000145.0  147.329838   \n",
       "\n",
       "    latitude surface_type speed_zone  \n",
       "0 -41.390335       Sealed        100  \n",
       "1 -42.879023       Sealed        050  "
      ]
     },
     "execution_count": 4,
     "metadata": {},
     "output_type": "execute_result"
    }
   ],
   "source": [
    "df.head(2)"
   ]
  },
  {
   "cell_type": "code",
   "execution_count": 5,
   "metadata": {},
   "outputs": [
    {
     "data": {
      "text/plain": [
       "Index(['light_condition', 'crash_date', 'severity', 'location_description',\n",
       "       'centre_line', 'visited', 'id', 'report_date', 'description', 'vcrn',\n",
       "       'longitude', 'latitude', 'surface_type', 'speed_zone'],\n",
       "      dtype='object')"
      ]
     },
     "execution_count": 5,
     "metadata": {},
     "output_type": "execute_result"
    }
   ],
   "source": [
    "df.columns"
   ]
  },
  {
   "cell_type": "code",
   "execution_count": 6,
   "metadata": {},
   "outputs": [
    {
     "data": {
      "text/html": [
       "<div>\n",
       "<style scoped>\n",
       "    .dataframe tbody tr th:only-of-type {\n",
       "        vertical-align: middle;\n",
       "    }\n",
       "\n",
       "    .dataframe tbody tr th {\n",
       "        vertical-align: top;\n",
       "    }\n",
       "\n",
       "    .dataframe thead th {\n",
       "        text-align: right;\n",
       "    }\n",
       "</style>\n",
       "<table border=\"1\" class=\"dataframe\">\n",
       "  <thead>\n",
       "    <tr style=\"text-align: right;\">\n",
       "      <th></th>\n",
       "      <th>light_condition</th>\n",
       "      <th>crash_date</th>\n",
       "      <th>severity</th>\n",
       "      <th>location_description</th>\n",
       "      <th>centre_line</th>\n",
       "      <th>visited</th>\n",
       "      <th>id</th>\n",
       "      <th>report_date</th>\n",
       "      <th>description</th>\n",
       "      <th>vcrn</th>\n",
       "      <th>longitude</th>\n",
       "      <th>latitude</th>\n",
       "      <th>surface_type</th>\n",
       "      <th>speed_zone</th>\n",
       "    </tr>\n",
       "  </thead>\n",
       "  <tbody>\n",
       "    <tr>\n",
       "      <th>0</th>\n",
       "      <td>Daylight</td>\n",
       "      <td>2013-04-09T00:00:00.000+0000</td>\n",
       "      <td>Serious</td>\n",
       "      <td>West Tamar Highway, Riverside, West Tamar</td>\n",
       "      <td>Single broken</td>\n",
       "      <td>Yes</td>\n",
       "      <td>4073</td>\n",
       "      <td>2013-04-09T00:00:00.000+0000</td>\n",
       "      <td>171 - Left off carriageway into object or park...</td>\n",
       "      <td>13000144.0</td>\n",
       "      <td>147.071676</td>\n",
       "      <td>-41.390335</td>\n",
       "      <td>Sealed</td>\n",
       "      <td>100</td>\n",
       "    </tr>\n",
       "    <tr>\n",
       "      <th>1</th>\n",
       "      <td>Daylight</td>\n",
       "      <td>2013-04-08T00:00:00.000+0000</td>\n",
       "      <td>Property Damage Only</td>\n",
       "      <td>Intersection of Campbell Street and Liverpool ...</td>\n",
       "      <td>Single Continuous</td>\n",
       "      <td>No</td>\n",
       "      <td>4086</td>\n",
       "      <td>2013-04-09T00:00:00.000+0000</td>\n",
       "      <td>136 - Vehicles in parallel lane/ right turn si...</td>\n",
       "      <td>13000145.0</td>\n",
       "      <td>147.329838</td>\n",
       "      <td>-42.879023</td>\n",
       "      <td>Sealed</td>\n",
       "      <td>050</td>\n",
       "    </tr>\n",
       "  </tbody>\n",
       "</table>\n",
       "</div>"
      ],
      "text/plain": [
       "  light_condition                    crash_date              severity  \\\n",
       "0        Daylight  2013-04-09T00:00:00.000+0000               Serious   \n",
       "1        Daylight  2013-04-08T00:00:00.000+0000  Property Damage Only   \n",
       "\n",
       "                                location_description        centre_line  \\\n",
       "0          West Tamar Highway, Riverside, West Tamar      Single broken   \n",
       "1  Intersection of Campbell Street and Liverpool ...  Single Continuous   \n",
       "\n",
       "  visited    id                   report_date  \\\n",
       "0     Yes  4073  2013-04-09T00:00:00.000+0000   \n",
       "1      No  4086  2013-04-09T00:00:00.000+0000   \n",
       "\n",
       "                                         description        vcrn   longitude  \\\n",
       "0  171 - Left off carriageway into object or park...  13000144.0  147.071676   \n",
       "1  136 - Vehicles in parallel lane/ right turn si...  13000145.0  147.329838   \n",
       "\n",
       "    latitude surface_type speed_zone  \n",
       "0 -41.390335       Sealed        100  \n",
       "1 -42.879023       Sealed        050  "
      ]
     },
     "execution_count": 6,
     "metadata": {},
     "output_type": "execute_result"
    }
   ],
   "source": [
    "to_keep = ['crash_date', 'latitude', 'light_condition', 'longitude', 'severity']\n",
    "df.drop(set(df.columns)-set(to_keep), axis=1)\n",
    "df.head(2)"
   ]
  },
  {
   "cell_type": "code",
   "execution_count": 29,
   "metadata": {},
   "outputs": [
    {
     "data": {
      "text/plain": [
       "array(['Serious', 'Property Damage Only', 'First Aid', 'Minor', 'Fatal',\n",
       "       'Not known'], dtype=object)"
      ]
     },
     "execution_count": 29,
     "metadata": {},
     "output_type": "execute_result"
    }
   ],
   "source": [
    "df['severity'].unique()"
   ]
  },
  {
   "cell_type": "code",
   "execution_count": null,
   "metadata": {},
   "outputs": [],
   "source": [
    "{'Not known':-1, 'Property Damage Only':0, 'Minor':1, 'First Aid':2, 'Serious':3, 'Fatal':4}"
   ]
  },
  {
   "cell_type": "markdown",
   "metadata": {},
   "source": [
    "### API request"
   ]
  },
  {
   "cell_type": "code",
   "execution_count": 12,
   "metadata": {},
   "outputs": [
    {
     "data": {
      "text/plain": [
       "200"
      ]
     },
     "execution_count": 12,
     "metadata": {},
     "output_type": "execute_result"
    }
   ],
   "source": [
    "headers = {\n",
    "            'Cache-Control': 'no-cache',\n",
    "            'X-API-Key': 'aab76f73f089453aab4c3e8fea5a7cec',\n",
    "            'User-agent' : 'CloudComp'}\n",
    "\n",
    "r = requests.get('https://gateway.api.epa.vic.gov.au/environmentMonitoring/v1/sites/parameters?environmentalSegment=air',headers=headers )\n",
    "r.text"
   ]
  },
  {
   "cell_type": "code",
   "execution_count": 22,
   "metadata": {},
   "outputs": [],
   "source": [
    "d1 = datetime.strptime('2019-07-14T23:00:00Z', '%Y-%m-%dT%H:%M:%SZ')\n",
    "d2 = datetime.strptime('2019-07-12T23:00:00Z', '%Y-%m-%dT%H:%M:%SZ')"
   ]
  },
  {
   "cell_type": "code",
   "execution_count": 23,
   "metadata": {},
   "outputs": [
    {
     "data": {
      "text/plain": [
       "False"
      ]
     },
     "execution_count": 23,
     "metadata": {},
     "output_type": "execute_result"
    }
   ],
   "source": [
    "d1 < d2"
   ]
  },
  {
   "cell_type": "markdown",
   "metadata": {},
   "source": [
    "### Tests on fetch_epa()"
   ]
  },
  {
   "cell_type": "code",
   "execution_count": 13,
   "metadata": {},
   "outputs": [
    {
     "data": {
      "text/plain": [
       "True"
      ]
     },
     "execution_count": 13,
     "metadata": {},
     "output_type": "execute_result"
    }
   ],
   "source": [
    "type(datetime.strptime('2010-11-23T11:45:33Z', '%Y-%m-%dT%H:%M:%SZ')) == datetime"
   ]
  },
  {
   "cell_type": "code",
   "execution_count": 14,
   "metadata": {},
   "outputs": [
    {
     "data": {
      "text/plain": [
       "datetime.datetime(2010, 11, 23, 11, 45, 33)"
      ]
     },
     "execution_count": 14,
     "metadata": {},
     "output_type": "execute_result"
    }
   ],
   "source": [
    "datetime.strptime('2010-11-23T11:45:33Z', '%Y-%m-%dT%H:%M:%SZ')"
   ]
  },
  {
   "cell_type": "code",
   "execution_count": 16,
   "metadata": {},
   "outputs": [
    {
     "data": {
      "text/plain": [
       "datetime.datetime(2010, 11, 23, 11, 45, 33)"
      ]
     },
     "execution_count": 16,
     "metadata": {},
     "output_type": "execute_result"
    }
   ],
   "source": [
    "datetime(2010, 11, 23, 11, 45, 33)"
   ]
  },
  {
   "cell_type": "code",
   "execution_count": null,
   "metadata": {},
   "outputs": [],
   "source": [
    "class Tests(unittest.TestCase):\n",
    "    \n",
    "    def test_fetch_epa(self):\n",
    "\n",
    "        bad_keys_dict1 = {'records':[{'not_parameters':1}]}\n",
    "        bad_keys_dict2 = {'records':[{'parameters':[{'not_name':1,'timeSeriesReadings':2}],\n",
    "                                      'geometry':{'coordinates':3}}]}\n",
    "        bad_keys_dict3 = {'records':[{'parameters':[{'name':1,'not_timeSeriesReadings':2}],\n",
    "                                      'geometry':{'coordinates':3}}]}\n",
    "        bad_keys_dict4 = {'records':[{'parameters':[{'name':1,'timeSeriesReadings':{'not_readings':4}}],\n",
    "                                      'geometry':{'coordinates':3}}]}\n",
    "        \n",
    "        good_keys_dict = {'records':[{'parameters':[{'name':1,'timeSeriesReadings':{'readings':{'since':'2010-11-22T10:45:33Z',\n",
    "                                                                                                'until':'2011-12-23T11:46:34Z',\n",
    "                                                                                                'averageValue':5}}}],\n",
    "                                      'geometry':{'coordinates':3}}]}\n",
    "\n",
    "\n",
    "        self.assertEqual(fetch_epa(bad_keys_dict1), [])\n",
    "        self.assertEqual(fetch_epa(bad_keys_dict2), [])\n",
    "        self.assertEqual(fetch_epa(bad_keys_dict3), [])\n",
    "        self.assertEqual(fetch_epa(bad_keys_dict4), [])\n",
    "\n",
    "        self.assertEqual(fetch_epa(good_keys_dict), [{'name':1,'location':3,\n",
    "                                                      'start':datetime(2010, 11, 22, 10, 45, 33),\n",
    "                                                      'end':datetime(2011, 12, 23, 11, 46, 34),\n",
    "                                                      'value':5}])\n",
    "\n"
   ]
  },
  {
   "cell_type": "markdown",
   "metadata": {},
   "source": [
    "### Filtering the already downloaded data"
   ]
  },
  {
   "cell_type": "code",
   "execution_count": null,
   "metadata": {},
   "outputs": [],
   "source": [
    "def accepting_new_data(new_data, current_data):\n",
    "    #readings is a list of dictionary, each one is a reading of the air quality \n",
    "\n",
    "    latest_current_df = current_data.groupby(['name', 'location'])['end'].max()\n",
    "\n",
    "    kept_data = new_data.copy()\n",
    "\n",
    "    for index in new_data.index:\n",
    "        if new_data.loc[index,'end'] <= latest_current_df.loc[new_data.loc[index,'name']\n",
    "                                                                          [new_data.loc[index,'location']],'end'] :\n",
    "            kept_data.drop(index, axis='index')\n",
    "    \n",
    "    return kept_data\n",
    "\n",
    "#    current_data[current_data['end'] > latest_current_df.loc[[current_data['name']][current_data['location']],'end']] \n",
    "\n"
   ]
  },
  {
   "cell_type": "code",
   "execution_count": 9,
   "metadata": {},
   "outputs": [
    {
     "data": {
      "text/plain": [
       "light_condition                  severity            \n",
       "Darkness (with street light)     Fatal                   50743981\n",
       "                                 First Aid               50891686\n",
       "                                 Minor                   50892562\n",
       "                                 Not known               50851906\n",
       "                                 Property Damage Only    50893517\n",
       "                                 Serious                 50850565\n",
       "Darkness (without street light)  Fatal                   50887142\n",
       "                                 First Aid               50883347\n",
       "                                 Minor                   50890335\n",
       "                                 Not known               50893551\n",
       "                                 Property Damage Only    50892483\n",
       "                                 Serious                 50877777\n",
       "Dawn / Dusk                      Fatal                   50599762\n",
       "                                 First Aid               50861392\n",
       "                                 Minor                   50861431\n",
       "                                 Not known               50887155\n",
       "                                 Property Damage Only    50891702\n",
       "                                 Serious                 50869107\n",
       "Daylight                         Fatal                   50881284\n",
       "                                 First Aid               50892573\n",
       "                                 Minor                   50893531\n",
       "                                 Not known               50892457\n",
       "                                 Property Damage Only    50893559\n",
       "                                 Serious                 50892532\n",
       "Not known                        Fatal                     122230\n",
       "                                 First Aid               50017852\n",
       "                                 Minor                   50726296\n",
       "                                 Not known               50849024\n",
       "                                 Property Damage Only    50892522\n",
       "                                 Serious                 50136760\n",
       "Not stated                       First Aid               30129864\n",
       "                                 Minor                   30146926\n",
       "                                 Not known               30170554\n",
       "                                 Property Damage Only    30171938\n",
       "                                 Serious                 30162293\n",
       "Name: id, dtype: int64"
      ]
     },
     "execution_count": 9,
     "metadata": {},
     "output_type": "execute_result"
    }
   ],
   "source": [
    "df2 = df.groupby(['light_condition','severity'])['id'].max()\n",
    "df2"
   ]
  },
  {
   "cell_type": "code",
   "execution_count": 11,
   "metadata": {},
   "outputs": [
    {
     "data": {
      "text/plain": [
       "50881284"
      ]
     },
     "execution_count": 11,
     "metadata": {},
     "output_type": "execute_result"
    }
   ],
   "source": [
    "df2.loc['Daylight']['Fatal']"
   ]
  },
  {
   "cell_type": "markdown",
   "metadata": {},
   "source": [
    "### "
   ]
  },
  {
   "cell_type": "markdown",
   "metadata": {},
   "source": [
    "### Posting the new data"
   ]
  },
  {
   "cell_type": "code",
   "execution_count": 14,
   "metadata": {},
   "outputs": [],
   "source": [
    "import elasticsearch as es"
   ]
  },
  {
   "cell_type": "code",
   "execution_count": null,
   "metadata": {},
   "outputs": [],
   "source": [
    "\n",
    "#the data is dict\n",
    "es.index(index='airquality',document=data)"
   ]
  }
 ],
 "metadata": {
  "kernelspec": {
   "display_name": "Python 3",
   "language": "python",
   "name": "python3"
  },
  "language_info": {
   "codemirror_mode": {
    "name": "ipython",
    "version": 3
   },
   "file_extension": ".py",
   "mimetype": "text/x-python",
   "name": "python",
   "nbconvert_exporter": "python",
   "pygments_lexer": "ipython3",
   "version": "3.11.2"
  }
 },
 "nbformat": 4,
 "nbformat_minor": 2
}
