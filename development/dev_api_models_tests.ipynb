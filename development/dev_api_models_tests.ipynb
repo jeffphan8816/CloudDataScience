{
 "cells": [
  {
   "cell_type": "markdown",
   "metadata": {},
   "source": [
    "## Make requests with comma separated params"
   ]
  },
  {
   "cell_type": "code",
   "execution_count": 1,
   "metadata": {},
   "outputs": [],
   "source": [
    "# Team 69\n",
    "# Dillon Blake 1524907\n",
    "# Andrea Delahaye 1424289\n",
    "# Yue Peng 958289\n",
    "# Jeff Phan 1577799\n",
    "# Alistair Wilcox 212544\n",
    "\n",
    "from unittest import TestCase\n",
    "import requests\n",
    "import json\n",
    "import pickle\n",
    "import pandas as pd\n",
    "import numpy as np\n",
    "from sklearn.linear_model import LinearRegression"
   ]
  },
  {
   "cell_type": "markdown",
   "metadata": {},
   "source": [
    "## Test the associated GET request"
   ]
  },
  {
   "cell_type": "code",
   "execution_count": 2,
   "metadata": {},
   "outputs": [],
   "source": [
    "RUN_FROM = 'uni_wifi' #'bastion'\n",
    "if RUN_FROM == 'bastion' : URL, HEADERS = 'http://fission:31001/', None\n",
    "if RUN_FROM == 'uni_wifi': URL, HEADERS =  'http://172.26.135.52:9090/', {'HOST': 'fission'}"
   ]
  },
  {
   "cell_type": "code",
   "execution_count": 3,
   "metadata": {},
   "outputs": [],
   "source": [
    "def get_model_from_api(model_name):\n",
    "    response = requests.get(URL+f'models/{model_name}')\n",
    "    return response"
   ]
  },
  {
   "cell_type": "code",
   "execution_count": 4,
   "metadata": {},
   "outputs": [
    {
     "data": {
      "text/plain": [
       "'{\"coef\":[1.0,1.9999999999999993],\"intercept\":3.0000000000000018}\\n'"
      ]
     },
     "execution_count": 4,
     "metadata": {},
     "output_type": "execute_result"
    }
   ],
   "source": [
    "response = get_model_from_api('lin_reg_model_test')\n",
    "response.text"
   ]
  },
  {
   "cell_type": "code",
   "execution_count": 5,
   "metadata": {},
   "outputs": [],
   "source": [
    "def get_prediction_from_api(model_name, values):\n",
    "    params = {'predictors': ','.join(map(str, values))}\n",
    "    response = requests.get(URL+f'models/{model_name}', params=params)\n",
    "    return response"
   ]
  },
  {
   "cell_type": "code",
   "execution_count": 6,
   "metadata": {},
   "outputs": [
    {
     "name": "stdout",
     "output_type": "stream",
     "text": [
      "{\"prediction\":8.5}\n",
      "\n"
     ]
    }
   ],
   "source": [
    "# Prediction for a set of predictors\n",
    "values = [1.1, 2.2]\n",
    "response = get_prediction_from_api('lin_reg_model_test', values)\n",
    "print(response.text)"
   ]
  },
  {
   "cell_type": "code",
   "execution_count": 7,
   "metadata": {},
   "outputs": [
    {
     "name": "stdout",
     "output_type": "stream",
     "text": [
      "{\"Status\": 400, \"Message\": \"There is no trained model stored with this name\"}\n"
     ]
    }
   ],
   "source": [
    "# Model name does not exist, should return BadParams\n",
    "response = get_model_from_api('not_a_model_name')\n",
    "print(response.text)"
   ]
  },
  {
   "cell_type": "code",
   "execution_count": 8,
   "metadata": {},
   "outputs": [
    {
     "name": "stdout",
     "output_type": "stream",
     "text": [
      "{\"Status\": 400, \"Message\": \"Invalid Parameters\"}\n"
     ]
    }
   ],
   "source": [
    "# Too many predicors, should return BadParams\n",
    "values = [1.1, 2.2, 3.3]\n",
    "response = get_prediction_from_api('lin_reg_model_test', values)\n",
    "print(response.text)"
   ]
  },
  {
   "cell_type": "markdown",
   "metadata": {},
   "source": [
    "## Tests"
   ]
  },
  {
   "cell_type": "code",
   "execution_count": 13,
   "metadata": {},
   "outputs": [],
   "source": [
    "URL, HEADERS =  'http://172.26.135.52:9090/', {'HOST': 'fission'}\n",
    "\n",
    "PAGE_NOT_FOUND_STR = '404 page not found\\n'\n",
    "INVALID_REQUEST_STR = 'Invalid request'\n",
    "BAD_PARAMS_STR = '{\"Status\": 400, \"Message\": \"Invalid Parameters\"}'\n",
    "ERROR_STR = '{\"Status\": 500, \"Message\": \"Internal Server Error\"}'\n",
    "EMPTY_STR = '{\"Status\": 200, \"Data\": []}'"
   ]
  },
  {
   "cell_type": "code",
   "execution_count": 10,
   "metadata": {},
   "outputs": [],
   "source": [
    "class APITests(TestCase):\n",
    "\n",
    "    def __init__(self) -> None:\n",
    "        super().__init__()\n",
    "\n",
    "    def test_models_api(self):\n",
    "        # Missing header\n",
    "        resp = requests.get(URL+'models').text\n",
    "        self.assertEqual(resp,BAD_PARAMS_STR)\n",
    "\n",
    "        # No predictors, returning model coefs\n",
    "        resp = requests.get(URL+'models/test').json()\n",
    "        self.assertAlmostEqual(resp['intercept'], 3.)\n",
    "        self.assertAlmostEqual(resp['coef'][0], 1.)\n",
    "        self.assertAlmostEqual(resp['coef'][1], 2.)\n",
    "\n",
    "        # Too many predictors (here 3 instead of 2)\n",
    "        params = {'predictors': '1.1,2.2,3.3'}\n",
    "        resp = requests.get(URL+'models/test', params=params).text\n",
    "        self.assertEqual(resp,BAD_PARAMS_STR)\n",
    "\n",
    "\n",
    "        # Valid parameters\n",
    "        params = {'predictors': '1.1,2.2'}\n",
    "        resp = requests.get(URL+'models/test', params=params).json()\n",
    "        self.assertAlmostEqual(resp['prediction'])"
   ]
  },
  {
   "cell_type": "code",
   "execution_count": 18,
   "metadata": {},
   "outputs": [
    {
     "name": "stdout",
     "output_type": "stream",
     "text": [
      "True\n",
      "{'coef': [1.0, 1.9999999999999993], 'intercept': 3.0000000000000018}\n",
      "True\n",
      "8.5\n"
     ]
    }
   ],
   "source": [
    "# Missing header\n",
    "resp = requests.get(URL+'models').text\n",
    "print((resp==PAGE_NOT_FOUND_STR))\n",
    "\n",
    "# No predictors, returning model coefs\n",
    "resp = requests.get(URL+'models/lin_reg_model_test').json()\n",
    "print(resp)\n",
    "\n",
    "# Too many predictors (here 3 instead of 2)\n",
    "params = {'predictors': '1.1,2.2,3.3'}\n",
    "resp = requests.get(URL+'models/lin_reg_model_test', params=params).text\n",
    "print((resp==BAD_PARAMS_STR))\n",
    "\n",
    "\n",
    "# Valid parameters\n",
    "params = {'predictors': '1.1,2.2'}\n",
    "resp = requests.get(URL+'models/lin_reg_model_test', params=params).json()\n",
    "print((resp['prediction']))"
   ]
  },
  {
   "cell_type": "markdown",
   "metadata": {},
   "source": [
    "## Generate example model"
   ]
  },
  {
   "cell_type": "code",
   "execution_count": 12,
   "metadata": {},
   "outputs": [
    {
     "name": "stdout",
     "output_type": "stream",
     "text": [
      "Coefficients: [1. 2.]\n",
      "Intercept: 3.0000000000000018\n"
     ]
    }
   ],
   "source": [
    "# Generate some sample data\n",
    "X = np.array([[1, 1], [1, 2], [2, 2], [2, 3]])\n",
    "y = np.dot(X, np.array([1, 2])) + 3\n",
    "\n",
    "# Train the linear regression model\n",
    "model = LinearRegression().fit(X, y)\n",
    "\n",
    "# Print the coefficients\n",
    "print(f'Coefficients: {model.coef_}')\n",
    "print(f'Intercept: {model.intercept_}')"
   ]
  },
  {
   "cell_type": "code",
   "execution_count": 13,
   "metadata": {},
   "outputs": [],
   "source": [
    "with open('lin_reg_model_test.pkl', 'wb') as file:\n",
    "    pickle.dump(model, file)"
   ]
  },
  {
   "cell_type": "code",
   "execution_count": null,
   "metadata": {},
   "outputs": [],
   "source": []
  }
 ],
 "metadata": {
  "kernelspec": {
   "display_name": "Python 3",
   "language": "python",
   "name": "python3"
  },
  "language_info": {
   "codemirror_mode": {
    "name": "ipython",
    "version": 3
   },
   "file_extension": ".py",
   "mimetype": "text/x-python",
   "name": "python",
   "nbconvert_exporter": "python",
   "pygments_lexer": "ipython3",
   "version": "3.11.2"
  }
 },
 "nbformat": 4,
 "nbformat_minor": 2
}
