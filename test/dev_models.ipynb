{
 "cells": [
  {
   "cell_type": "markdown",
   "metadata": {},
   "source": [
    "## Make requests with comma separated params"
   ]
  },
  {
   "cell_type": "code",
   "execution_count": null,
   "metadata": {},
   "outputs": [],
   "source": [
    "from unittest import TestCase\n",
    "import requests\n",
    "import json\n",
    "import pickle\n",
    "import pandas as pd\n",
    "import numpy as np\n",
    "from sklearn.linear_model import LinearRegression"
   ]
  },
  {
   "cell_type": "code",
   "execution_count": null,
   "metadata": {},
   "outputs": [
    {
     "name": "stdout",
     "output_type": "stream",
     "text": [
      "http://example.com/api/resource?values=1.1%2C2.2%2C3.3\n"
     ]
    }
   ],
   "source": [
    "def get_request_with_comma_separated_params(base_url, resource, param_name, values):\n",
    "    params = {param_name: ','.join(map(str, values))}\n",
    "    response = requests.get(f'{base_url}/{resource}', params=params)\n",
    "    return response"
   ]
  },
  {
   "cell_type": "markdown",
   "metadata": {},
   "source": [
    "## Test the associated GET request"
   ]
  },
  {
   "cell_type": "code",
   "execution_count": 72,
   "metadata": {},
   "outputs": [],
   "source": [
    "RUN_FROM = 'bastion' #'uni_wifi'\n",
    "if RUN_FROM == 'bastion' : URL, HEADERS = 'http://fission:31001/', None\n",
    "if RUN_FROM == 'uni_wifi': URL, HEADERS =  'http://172.26.135.52:9090/', {'HOST': 'fission'}"
   ]
  },
  {
   "cell_type": "code",
   "execution_count": 81,
   "metadata": {},
   "outputs": [],
   "source": [
    "def get_model_from_api():\n",
    "    response = requests.get(URL+'models')\n",
    "    if response.status_code == 200:\n",
    "        print('Talked to API, Success')\n",
    "        return response.json()\n",
    "    else:\n",
    "        return {'error': 'Failed to retrieve values from API'}"
   ]
  },
  {
   "cell_type": "code",
   "execution_count": 82,
   "metadata": {},
   "outputs": [
    {
     "data": {
      "text/plain": [
       "{'error': 'Failed to retrieve values from API'}"
      ]
     },
     "execution_count": 82,
     "metadata": {},
     "output_type": "execute_result"
    }
   ],
   "source": [
    "model = get_model_from_api()\n",
    "model"
   ]
  },
  {
   "cell_type": "code",
   "execution_count": 98,
   "metadata": {},
   "outputs": [],
   "source": [
    "def get_prediction_from_api(values):\n",
    "    params = {'predictors': ','.join(map(str, values))}\n",
    "    response = requests.get(URL, params=params)\n",
    "    if response.status_code == 200:\n",
    "        print('Talked to API, Success')\n",
    "        print(response.text)\n",
    "        return response.text\n",
    "    else:\n",
    "        print(response.text)\n",
    "        return {'error': 'Failed to retrieve values from API'}"
   ]
  },
  {
   "cell_type": "code",
   "execution_count": 99,
   "metadata": {},
   "outputs": [
    {
     "name": "stdout",
     "output_type": "stream",
     "text": [
      "Talked to API, Success\n",
      "\n",
      "\n"
     ]
    }
   ],
   "source": [
    "values = [1.1, 2.2]\n",
    "result = get_prediction_from_api(values)\n",
    "print(result)"
   ]
  },
  {
   "cell_type": "code",
   "execution_count": null,
   "metadata": {},
   "outputs": [],
   "source": [
    "values = [1.1, 2.2, 3.3]\n",
    "result = get_prediction_from_api(values)\n",
    "print(result)"
   ]
  },
  {
   "cell_type": "markdown",
   "metadata": {},
   "source": [
    "## Tests"
   ]
  },
  {
   "cell_type": "code",
   "execution_count": 63,
   "metadata": {},
   "outputs": [],
   "source": [
    "URL = 'http://127.0.0.1:5000/api/'\n",
    "\n",
    "BAD_PARAMS_STR = \"{'Status': 400, 'Message': 'Invalid Parameters'}\"\n",
    "ERROR_STR = \"{'Status': 500, 'Message': 'Internal Server Error'}\"\n",
    "EMPTY_STR = \"{'Status': 200, 'Data': []}\""
   ]
  },
  {
   "cell_type": "code",
   "execution_count": 69,
   "metadata": {},
   "outputs": [],
   "source": [
    "class APITests(TestCase):\n",
    "\n",
    "    def __init__(self) -> None:\n",
    "        super().__init__()\n",
    "\n",
    "    def test_models_api(self):\n",
    "        # Missing header\n",
    "        resp = requests.get(URL+'models').text\n",
    "        self.assertEqual(resp,BAD_PARAMS_STR)\n",
    "\n",
    "        # No predictors, returning model coefs\n",
    "        resp = requests.get(URL+'models/test').json()\n",
    "        self.assertAlmostEqual(resp['intercept'], 3.)\n",
    "        self.assertAlmostEqual(resp['coef'][0], 1.)\n",
    "        self.assertAlmostEqual(resp['coef'][1], 2.)\n",
    "\n",
    "        # Too many predictors (here 3 instead of 2)\n",
    "        params = {'predictors': '1.1,2.2,3.3'}\n",
    "        resp = requests.get(URL+'models/test', params=params).text\n",
    "        self.assertEqual(resp,BAD_PARAMS_STR)\n",
    "\n",
    "\n",
    "        # Valid parameters\n",
    "        params = {'predictors': '1.1,2.2'}\n",
    "        resp = requests.get(URL+'models/test', params=params).json()\n",
    "        self.assertAlmostEqual(resp['prediction'])"
   ]
  },
  {
   "cell_type": "code",
   "execution_count": null,
   "metadata": {},
   "outputs": [],
   "source": [
    "test = APITests()\n",
    "test.test_models_api()"
   ]
  },
  {
   "cell_type": "markdown",
   "metadata": {},
   "source": [
    "## Generate example model"
   ]
  },
  {
   "cell_type": "code",
   "execution_count": 44,
   "metadata": {},
   "outputs": [
    {
     "name": "stdout",
     "output_type": "stream",
     "text": [
      "Coefficients: [1. 2.]\n",
      "Intercept: 3.0000000000000018\n"
     ]
    }
   ],
   "source": [
    "# Generate some sample data\n",
    "X = np.array([[1, 1], [1, 2], [2, 2], [2, 3]])\n",
    "y = np.dot(X, np.array([1, 2])) + 3\n",
    "\n",
    "# Train the linear regression model\n",
    "model = LinearRegression().fit(X, y)\n",
    "\n",
    "# Print the coefficients\n",
    "print(f'Coefficients: {model.coef_}')\n",
    "print(f'Intercept: {model.intercept_}')"
   ]
  },
  {
   "cell_type": "code",
   "execution_count": 45,
   "metadata": {},
   "outputs": [],
   "source": [
    "with open('lin_reg_model_test.pkl', 'wb') as file:\n",
    "    pickle.dump(model, file)"
   ]
  }
 ],
 "metadata": {
  "kernelspec": {
   "display_name": "Python 3",
   "language": "python",
   "name": "python3"
  },
  "language_info": {
   "codemirror_mode": {
    "name": "ipython",
    "version": 3
   },
   "file_extension": ".py",
   "mimetype": "text/x-python",
   "name": "python",
   "nbconvert_exporter": "python",
   "pygments_lexer": "ipython3",
   "version": "3.10.12"
  }
 },
 "nbformat": 4,
 "nbformat_minor": 2
}
