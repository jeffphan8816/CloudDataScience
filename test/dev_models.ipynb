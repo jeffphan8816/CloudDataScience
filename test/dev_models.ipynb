{
 "cells": [
  {
   "cell_type": "markdown",
   "metadata": {},
   "source": [
    "## Make requests with comma separated params"
   ]
  },
  {
   "cell_type": "code",
   "execution_count": 2,
   "metadata": {},
   "outputs": [],
   "source": [
    "import requests"
   ]
  },
  {
   "cell_type": "code",
   "execution_count": 3,
   "metadata": {},
   "outputs": [
    {
     "name": "stdout",
     "output_type": "stream",
     "text": [
      "http://example.com/api/resource?values=1.1%2C2.2%2C3.3\n"
     ]
    }
   ],
   "source": [
    "def get_request_with_comma_separated_params(base_url, resource, param_name, values):\n",
    "    params = {param_name: ','.join(map(str, values))}\n",
    "    response = requests.get(f'{base_url}/{resource}', params=params)\n",
    "    return response\n",
    "\n",
    "# Usage\n",
    "float_values = [1.1, 2.2, 3.3]\n",
    "response = get_request_with_comma_separated_params('http://example.com', 'api/resource', 'values', float_values)\n",
    "print(response.url)"
   ]
  },
  {
   "cell_type": "code",
   "execution_count": 4,
   "metadata": {},
   "outputs": [
    {
     "name": "stdout",
     "output_type": "stream",
     "text": [
      "<Response [404]>\n"
     ]
    }
   ],
   "source": [
    "print(response)"
   ]
  },
  {
   "cell_type": "markdown",
   "metadata": {},
   "source": [
    "## Test the associated GET request"
   ]
  },
  {
   "cell_type": "code",
   "execution_count": 52,
   "metadata": {},
   "outputs": [],
   "source": [
    "def get_model_from_api():\n",
    "    url = 'http://127.0.0.1:5000/api/VIC'\n",
    "    response = requests.get(url)\n",
    "    if response.status_code == 200:\n",
    "        print('Talked to API, Success')\n",
    "        return response.json()\n",
    "    else:\n",
    "        return {'error': 'Failed to retrieve values from API'}"
   ]
  },
  {
   "cell_type": "code",
   "execution_count": 53,
   "metadata": {},
   "outputs": [
    {
     "name": "stdout",
     "output_type": "stream",
     "text": [
      "Talked to API, Success\n"
     ]
    },
    {
     "data": {
      "text/plain": [
       "{'coef': [1.0, 1.9999999999999993], 'intercept': 3.0000000000000018}"
      ]
     },
     "execution_count": 53,
     "metadata": {},
     "output_type": "execute_result"
    }
   ],
   "source": [
    "model = get_model_from_api()\n",
    "model"
   ]
  },
  {
   "cell_type": "code",
   "execution_count": 41,
   "metadata": {},
   "outputs": [],
   "source": [
    "def get_prediction_from_api(values):\n",
    "    url = 'http://127.0.0.1:5000/api/VIC'\n",
    "    params = {'predictors': ','.join(map(str, values))}\n",
    "    response = requests.get(url, params=params)\n",
    "    if response.status_code == 200:\n",
    "        print('Talked to API, Success')\n",
    "        return response.json()\n",
    "    else:\n",
    "        return {'error': 'Failed to retrieve values from API'}"
   ]
  },
  {
   "cell_type": "code",
   "execution_count": 42,
   "metadata": {},
   "outputs": [
    {
     "name": "stdout",
     "output_type": "stream",
     "text": [
      "Talked to API, Success\n",
      "{'prediction': 8.5}\n"
     ]
    }
   ],
   "source": [
    "values = [1.1, 2.2]\n",
    "result = get_prediction_from_api(values)\n",
    "print(result)"
   ]
  },
  {
   "cell_type": "code",
   "execution_count": 51,
   "metadata": {},
   "outputs": [
    {
     "name": "stdout",
     "output_type": "stream",
     "text": [
      "Talked to API, Success\n",
      "{'Status': 400, 'Message': 'Invalid Parameters'}\n"
     ]
    }
   ],
   "source": [
    "values = [1.1, 2.2, 3.3]\n",
    "result = get_prediction_from_api(values)\n",
    "print(result)"
   ]
  },
  {
   "cell_type": "markdown",
   "metadata": {},
   "source": [
    "## Generate example model"
   ]
  },
  {
   "cell_type": "code",
   "execution_count": 43,
   "metadata": {},
   "outputs": [],
   "source": [
    "import numpy as np\n",
    "from sklearn.linear_model import LinearRegression\n",
    "import pickle"
   ]
  },
  {
   "cell_type": "code",
   "execution_count": 44,
   "metadata": {},
   "outputs": [
    {
     "name": "stdout",
     "output_type": "stream",
     "text": [
      "Coefficients: [1. 2.]\n",
      "Intercept: 3.0000000000000018\n"
     ]
    }
   ],
   "source": [
    "# Generate some sample data\n",
    "X = np.array([[1, 1], [1, 2], [2, 2], [2, 3]])\n",
    "y = np.dot(X, np.array([1, 2])) + 3\n",
    "\n",
    "# Train the linear regression model\n",
    "model = LinearRegression().fit(X, y)\n",
    "\n",
    "# Print the coefficients\n",
    "print(f'Coefficients: {model.coef_}')\n",
    "print(f'Intercept: {model.intercept_}')"
   ]
  },
  {
   "cell_type": "code",
   "execution_count": 45,
   "metadata": {},
   "outputs": [],
   "source": [
    "with open('lin_reg_model_test.pkl', 'wb') as file:\n",
    "    pickle.dump(model, file)"
   ]
  },
  {
   "cell_type": "code",
   "execution_count": null,
   "metadata": {},
   "outputs": [],
   "source": []
  }
 ],
 "metadata": {
  "kernelspec": {
   "display_name": "Python 3",
   "language": "python",
   "name": "python3"
  },
  "language_info": {
   "codemirror_mode": {
    "name": "ipython",
    "version": 3
   },
   "file_extension": ".py",
   "mimetype": "text/x-python",
   "name": "python",
   "nbconvert_exporter": "python",
   "pygments_lexer": "ipython3",
   "version": "3.11.2"
  }
 },
 "nbformat": 4,
 "nbformat_minor": 2
}
