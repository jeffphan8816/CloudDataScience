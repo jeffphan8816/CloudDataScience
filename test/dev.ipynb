{
 "cells": [
  {
   "cell_type": "code",
   "execution_count": 1,
   "metadata": {},
   "outputs": [],
   "source": [
    "import requests\n",
    "import json\n",
    "import pandas as pd\n",
    "\n",
    "RUN_FROM = 'uni_wifi' #'bastion'\n",
    "\n",
    "if RUN_FROM == 'bastion' : URL, HEADERS = 'http://fission:31001/', None\n",
    "if RUN_FROM == 'uni_wifi': URL, HEADERS =  'http://172.26.135.52:9090/', {'HOST': 'fission'}"
   ]
  },
  {
   "cell_type": "code",
   "execution_count": 24,
   "metadata": {},
   "outputs": [],
   "source": [
    "PAGE_NOT_FOUND_STR = '404 page not found\\n'\n",
    "BAD_PARAMS_STR = '{\"Status\": 400, \"Message\": \"Invalid Parameters\"}'\n",
    "ERROR_STR = '{\"Status\": 500, \"Message\": \"Internal Server Error\"}'\n",
    "EMPTY_STR = '{\"Status\": 200, \"Data\": []}'"
   ]
  },
  {
   "cell_type": "markdown",
   "metadata": {},
   "source": [
    "# Station API"
   ]
  },
  {
   "cell_type": "code",
   "execution_count": 35,
   "metadata": {},
   "outputs": [
    {
     "data": {
      "text/plain": [
       "'http://172.26.135.52:9090/stations'"
      ]
     },
     "execution_count": 35,
     "metadata": {},
     "output_type": "execute_result"
    }
   ],
   "source": [
    "url_stations = URL+'stations'\n",
    "url_stations"
   ]
  },
  {
   "cell_type": "code",
   "execution_count": 36,
   "metadata": {},
   "outputs": [
    {
     "data": {
      "text/plain": [
       "True"
      ]
     },
     "execution_count": 36,
     "metadata": {},
     "output_type": "execute_result"
    }
   ],
   "source": [
    "resp = requests.get(url_stations, headers=HEADERS).json()\n",
    "df_stations = pd.DataFrame.from_records(resp['Data'], index='Station ID')\n",
    "df_stations.loc[23034,'Station Name']=='ADELAIDE AIRPORT'"
   ]
  },
  {
   "cell_type": "markdown",
   "metadata": {},
   "source": [
    "# Weather API"
   ]
  },
  {
   "cell_type": "code",
   "execution_count": 44,
   "metadata": {},
   "outputs": [
    {
     "name": "stdout",
     "output_type": "stream",
     "text": [
      "True\n",
      "True\n",
      "True\n",
      "True\n"
     ]
    },
    {
     "data": {
      "text/plain": [
       "True"
      ]
     },
     "execution_count": 44,
     "metadata": {},
     "output_type": "execute_result"
    }
   ],
   "source": [
    "resp = requests.get(URL+'weather/23034/2014').text\n",
    "print((resp==PAGE_NOT_FOUND_STR))\n",
    "\n",
    "# Invalid station_id\n",
    "resp = requests.get(URL+'weather/STATION_ID/2014/2015').text\n",
    "print((resp==EMPTY_STR))\n",
    "\n",
    "\n",
    "# Invalid start_year\n",
    "resp = requests.get(URL+'weather/23034/START_YEAR/2015').text\n",
    "print((resp==ERROR_STR))\n",
    "\n",
    "\n",
    "# Invalid end_year\n",
    "resp = requests.get(URL+'weather/23034/2014/END_YEAR').text\n",
    "print((resp==ERROR_STR))\n",
    "\n",
    "# Valid parameters\n",
    "resp = requests.get(URL+'weather/94250/2014/2015').json()\n",
    "df_weather = pd.DataFrame.from_records(resp['Data'], index='Date')\n",
    "df_weather.loc['03/01/2014','UV']=='28.70'\n",
    "\n"
   ]
  },
  {
   "cell_type": "markdown",
   "metadata": {},
   "source": [
    "# Crash API"
   ]
  },
  {
   "cell_type": "code",
   "execution_count": 68,
   "metadata": {},
   "outputs": [
    {
     "name": "stdout",
     "output_type": "stream",
     "text": [
      "True\n",
      "True\n",
      "True\n",
      "True\n",
      "True\n",
      "True\n"
     ]
    },
    {
     "data": {
      "text/plain": [
       "True"
      ]
     },
     "execution_count": 68,
     "metadata": {},
     "output_type": "execute_result"
    }
   ],
   "source": [
    "# Missing header\n",
    "resp = requests.get(URL+'crashes/23034/5000').text\n",
    "print((resp==PAGE_NOT_FOUND_STR))\n",
    "\n",
    "# Invalid station_id\n",
    "resp = requests.get(URL+'crashes/STATION_ID/5000/3000').text\n",
    "print((resp==EMPTY_STR))\n",
    "\n",
    "# Invalid size\n",
    "resp = requests.get(URL+'crashes/23034/SIZE/3000').text\n",
    "print((resp==ERROR_STR))\n",
    "\n",
    "# Size too big\n",
    "resp = requests.get(URL+'crashes/23034/10500/3000').text\n",
    "print((resp==BAD_PARAMS_STR))\n",
    "\n",
    "# Invalid radius_km\n",
    "resp = requests.get(URL+'crashes/23034/5000/RADIUS_KM').text\n",
    "print((resp==ERROR_STR))\n",
    "\n",
    "# Negative radius_km\n",
    "resp = requests.get(URL+'crashes/23034/5000/-3000').text\n",
    "print((resp==BAD_PARAMS_STR))\n",
    "\n",
    "# Valid parameters\n",
    "resp = requests.get(URL+'crashes/23034/5000/800').json()\n",
    "df_crash = pd.DataFrame.from_records(resp['Data'], index='_id')\n",
    "df_crash.loc['5XZkcI8B_XhVKXBOfiMP','_source']['crash_date']=='2014-06-19T00:00:00.000+0000'"
   ]
  },
  {
   "cell_type": "markdown",
   "metadata": {},
   "source": [
    "# Crime API"
   ]
  },
  {
   "cell_type": "code",
   "execution_count": 98,
   "metadata": {},
   "outputs": [
    {
     "name": "stdout",
     "output_type": "stream",
     "text": [
      "True\n",
      "True\n",
      "True\n",
      "True\n",
      "True\n",
      "True\n"
     ]
    },
    {
     "data": {
      "text/plain": [
       "True"
      ]
     },
     "execution_count": 98,
     "metadata": {},
     "output_type": "execute_result"
    }
   ],
   "source": [
    "# Missing header\n",
    "resp = requests.get(URL+'crime/23034/5000').text\n",
    "print((resp==PAGE_NOT_FOUND_STR))\n",
    "\n",
    "# Invalid station_id\n",
    "resp = requests.get(URL+'crime/STATION_ID/5000/3000').text\n",
    "print((resp==EMPTY_STR))\n",
    "\n",
    "# Invalid size\n",
    "resp = requests.get(URL+'crime/23034/SIZE/3000').text\n",
    "print((resp==ERROR_STR))\n",
    "\n",
    "# Size too big\n",
    "resp = requests.get(URL+'crime/23034/10500/3000').text\n",
    "print((resp==BAD_PARAMS_STR))\n",
    "\n",
    "# Invalid radius_km\n",
    "resp = requests.get(URL+'crime/23034/5000/RADIUS_KM').text\n",
    "print((resp==ERROR_STR))\n",
    "\n",
    "# Negative radius_km\n",
    "resp = requests.get(URL+'crime/23034/5000/-3000').text\n",
    "print((resp==BAD_PARAMS_STR))\n",
    "\n",
    "# Valid parameters\n",
    "resp = requests.get(URL+'crime/95003/5000/500').json()\n",
    "df_crime = pd.DataFrame.from_records(resp['Data'], index='_id')\n",
    "df_crime.loc['mYMPVo8BeqktFCObjzke']['_source']['reported_date']=='2020-03-20T00:00:00'"
   ]
  },
  {
   "cell_type": "markdown",
   "metadata": {},
   "source": [
    "# Stream API"
   ]
  },
  {
   "cell_type": "code",
   "execution_count": 90,
   "metadata": {},
   "outputs": [],
   "source": [
    "def get_stream_to_pd(api: str, station_id: str, size: int, radius_km: int, verb=False) -> pd.DataFrame:\n",
    "    resp_dict = json.loads(requests.get(URL+api+f'/{station_id}/{size}/{radius_km}', headers=HEADERS).text)\n",
    "\n",
    "    count=0\n",
    "    status, token, new_data = resp_dict['Status'], resp_dict['Token'], resp_dict['Data']\n",
    "    data = [new_data[i]['_source'] for i in range(len(new_data))]\n",
    "    if verb : print(f'Called {api} api, fetched {len(new_data)} lines')\n",
    "\n",
    "\n",
    "    while (status == 200) and (new_data != []) :\n",
    "        count+=1\n",
    "        resp_dict = json.loads(requests.get(URL+f'stream/'+token, headers=HEADERS).text)\n",
    "        status, token, new_data = resp_dict['Status'], resp_dict['Token'], resp_dict['Data']\n",
    "        if verb : print(f'Called stream {count} times, fetched {len(new_data)} new lines')\n",
    "        data += [new_data[i]['_source'] for i in range(len(new_data))]\n",
    "\n",
    "    if verb: print(f'Fetched a total of {len(data)}lines')\n",
    "    return pd.DataFrame.from_records(data)"
   ]
  },
  {
   "cell_type": "code",
   "execution_count": 100,
   "metadata": {},
   "outputs": [
    {
     "name": "stdout",
     "output_type": "stream",
     "text": [
      "Called crime api, fetched 5 lines\n",
      "Called stream 1 times, fetched 2 new lines\n",
      "Called stream 2 times, fetched 0 new lines\n",
      "Fetched a total of 7lines\n"
     ]
    },
    {
     "data": {
      "text/plain": [
       "True"
      ]
     },
     "execution_count": 100,
     "metadata": {},
     "output_type": "execute_result"
    }
   ],
   "source": [
    "df_crime_full = get_stream_to_pd(api='crime', station_id='95003', size=5, radius_km=500, verb=True)\n",
    "df_crime_full.shape[0]==7"
   ]
  },
  {
   "cell_type": "code",
   "execution_count": null,
   "metadata": {},
   "outputs": [],
   "source": []
  }
 ],
 "metadata": {
  "kernelspec": {
   "display_name": "Python 3",
   "language": "python",
   "name": "python3"
  },
  "language_info": {
   "codemirror_mode": {
    "name": "ipython",
    "version": 3
   },
   "file_extension": ".py",
   "mimetype": "text/x-python",
   "name": "python",
   "nbconvert_exporter": "python",
   "pygments_lexer": "ipython3",
   "version": "3.11.2"
  }
 },
 "nbformat": 4,
 "nbformat_minor": 2
}
