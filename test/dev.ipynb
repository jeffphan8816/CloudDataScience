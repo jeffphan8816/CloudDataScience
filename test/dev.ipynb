{
 "cells": [
  {
   "cell_type": "code",
   "execution_count": 1,
   "metadata": {},
   "outputs": [],
   "source": [
    "import requests\n",
    "import json\n",
    "import pandas as pd\n",
    "\n",
    "RUN_FROM = 'uni_wifi' #'bastion'\n",
    "\n",
    "if RUN_FROM == 'bastion' : URL, HEADERS = 'http://fission:31001/', None\n",
    "if RUN_FROM == 'uni_wifi': URL, HEADERS =  'http://172.26.135.52:9090/', {'HOST': 'fission'}"
   ]
  },
  {
   "cell_type": "code",
   "execution_count": 24,
   "metadata": {},
   "outputs": [],
   "source": [
    "PAGE_NOT_FOUND_STR = '404 page not found\\n'\n",
    "BAD_PARAMS_STR = '{\"Status\": 400, \"Message\": \"Invalid Parameters\"}'\n",
    "ERROR_STR = '{\"Status\": 500, \"Message\": \"Internal Server Error\"}'\n",
    "EMPTY_STR = '{\"Status\": 200, \"Data\": []}'"
   ]
  },
  {
   "cell_type": "markdown",
   "metadata": {},
   "source": [
    "# Station API"
   ]
  },
  {
   "cell_type": "code",
   "execution_count": 35,
   "metadata": {},
   "outputs": [
    {
     "data": {
      "text/plain": [
       "'http://172.26.135.52:9090/stations'"
      ]
     },
     "execution_count": 35,
     "metadata": {},
     "output_type": "execute_result"
    }
   ],
   "source": [
    "url_stations = URL+'stations'\n",
    "url_stations"
   ]
  },
  {
   "cell_type": "code",
   "execution_count": 36,
   "metadata": {},
   "outputs": [
    {
     "data": {
      "text/plain": [
       "True"
      ]
     },
     "execution_count": 36,
     "metadata": {},
     "output_type": "execute_result"
    }
   ],
   "source": [
    "resp = requests.get(url_stations, headers=HEADERS).json()\n",
    "df_stations = pd.DataFrame.from_records(resp['Data'], index='Station ID')\n",
    "df_stations.loc[23034,'Station Name']=='ADELAIDE AIRPORT'"
   ]
  },
  {
   "cell_type": "markdown",
   "metadata": {},
   "source": [
    "# Weather API"
   ]
  },
  {
   "cell_type": "code",
   "execution_count": 44,
   "metadata": {},
   "outputs": [
    {
     "name": "stdout",
     "output_type": "stream",
     "text": [
      "True\n",
      "True\n",
      "True\n",
      "True\n"
     ]
    },
    {
     "data": {
      "text/plain": [
       "True"
      ]
     },
     "execution_count": 44,
     "metadata": {},
     "output_type": "execute_result"
    }
   ],
   "source": [
    "resp = requests.get(URL+'weather/23034/2014').text\n",
    "print((resp==PAGE_NOT_FOUND_STR))\n",
    "\n",
    "# Invalid station_id\n",
    "resp = requests.get(URL+'weather/STATION_ID/2014/2015').text\n",
    "print((resp==EMPTY_STR))\n",
    "\n",
    "\n",
    "# Invalid start_year\n",
    "resp = requests.get(URL+'weather/23034/START_YEAR/2015').text\n",
    "print((resp==ERROR_STR))\n",
    "\n",
    "\n",
    "# Invalid end_year\n",
    "resp = requests.get(URL+'weather/23034/2014/END_YEAR').text\n",
    "print((resp==ERROR_STR))\n",
    "\n",
    "# Valid parameters\n",
    "resp = requests.get(URL+'weather/94250/2014/2015').json()\n",
    "df_weather = pd.DataFrame.from_records(resp['Data'], index='Date')\n",
    "df_weather.loc['03/01/2014','UV']=='28.70'\n",
    "\n"
   ]
  },
  {
   "cell_type": "markdown",
   "metadata": {},
   "source": [
    "# Crash API"
   ]
  },
  {
   "cell_type": "code",
   "execution_count": 68,
   "metadata": {},
   "outputs": [
    {
     "name": "stdout",
     "output_type": "stream",
     "text": [
      "True\n",
      "True\n",
      "True\n",
      "True\n",
      "True\n",
      "True\n"
     ]
    },
    {
     "data": {
      "text/plain": [
       "True"
      ]
     },
     "execution_count": 68,
     "metadata": {},
     "output_type": "execute_result"
    }
   ],
   "source": [
    "# Missing header\n",
    "resp = requests.get(URL+'crashes/23034/5000').text\n",
    "print((resp==PAGE_NOT_FOUND_STR))\n",
    "\n",
    "# Invalid station_id\n",
    "resp = requests.get(URL+'crashes/STATION_ID/5000/3000').text\n",
    "print((resp==EMPTY_STR))\n",
    "\n",
    "# Invalid size\n",
    "resp = requests.get(URL+'crashes/23034/SIZE/3000').text\n",
    "print((resp==ERROR_STR))\n",
    "\n",
    "# Size too big\n",
    "resp = requests.get(URL+'crashes/23034/10500/3000').text\n",
    "print((resp==BAD_PARAMS_STR))\n",
    "\n",
    "# Invalid radius_km\n",
    "resp = requests.get(URL+'crashes/23034/5000/RADIUS_KM').text\n",
    "print((resp==ERROR_STR))\n",
    "\n",
    "# Negative radius_km\n",
    "resp = requests.get(URL+'crashes/23034/5000/-3000').text\n",
    "print((resp==BAD_PARAMS_STR))\n",
    "\n",
    "# Valid parameters\n",
    "resp = requests.get(URL+'crashes/23034/5000/800').json()\n",
    "df_crash = pd.DataFrame.from_records(resp['Data'], index='_id')\n",
    "df_crash.loc['5XZkcI8B_XhVKXBOfiMP','_source']['crash_date']=='2014-06-19T00:00:00.000+0000'"
   ]
  },
  {
   "cell_type": "markdown",
   "metadata": {},
   "source": [
    "# Crime API"
   ]
  },
  {
   "cell_type": "code",
   "execution_count": 88,
   "metadata": {},
   "outputs": [
    {
     "name": "stdout",
     "output_type": "stream",
     "text": [
      "True\n",
      "True\n",
      "True\n",
      "True\n",
      "True\n",
      "{\"Status\": 400, \"Message\": \"Invalid Parameters\"}\n",
      "True\n",
      "(5000, 3)\n"
     ]
    },
    {
     "data": {
      "text/html": [
       "<div>\n",
       "<style scoped>\n",
       "    .dataframe tbody tr th:only-of-type {\n",
       "        vertical-align: middle;\n",
       "    }\n",
       "\n",
       "    .dataframe tbody tr th {\n",
       "        vertical-align: top;\n",
       "    }\n",
       "\n",
       "    .dataframe thead th {\n",
       "        text-align: right;\n",
       "    }\n",
       "</style>\n",
       "<table border=\"1\" class=\"dataframe\">\n",
       "  <thead>\n",
       "    <tr style=\"text-align: right;\">\n",
       "      <th></th>\n",
       "      <th>_index</th>\n",
       "      <th>_score</th>\n",
       "      <th>_source</th>\n",
       "    </tr>\n",
       "    <tr>\n",
       "      <th>_id</th>\n",
       "      <th></th>\n",
       "      <th></th>\n",
       "      <th></th>\n",
       "    </tr>\n",
       "  </thead>\n",
       "  <tbody>\n",
       "    <tr>\n",
       "      <th>SnrkVY8BeqktFCObSAM0</th>\n",
       "      <td>crimes</td>\n",
       "      <td>0.0</td>\n",
       "      <td>{'reported_date': '2013-02-18T00:00:00', 'subu...</td>\n",
       "    </tr>\n",
       "    <tr>\n",
       "      <th>fXrkVY8BeqktFCObSAM0</th>\n",
       "      <td>crimes</td>\n",
       "      <td>0.0</td>\n",
       "      <td>{'reported_date': '2013-02-18T00:00:00', 'subu...</td>\n",
       "    </tr>\n",
       "    <tr>\n",
       "      <th>kHrkVY8BeqktFCObSAM0</th>\n",
       "      <td>crimes</td>\n",
       "      <td>0.0</td>\n",
       "      <td>{'reported_date': '2013-02-18T00:00:00', 'subu...</td>\n",
       "    </tr>\n",
       "    <tr>\n",
       "      <th>sXrkVY8BeqktFCObSAM0</th>\n",
       "      <td>crimes</td>\n",
       "      <td>0.0</td>\n",
       "      <td>{'reported_date': '2013-02-18T00:00:00', 'subu...</td>\n",
       "    </tr>\n",
       "    <tr>\n",
       "      <th>tnrkVY8BeqktFCObSAM0</th>\n",
       "      <td>crimes</td>\n",
       "      <td>0.0</td>\n",
       "      <td>{'reported_date': '2013-02-18T00:00:00', 'subu...</td>\n",
       "    </tr>\n",
       "    <tr>\n",
       "      <th>...</th>\n",
       "      <td>...</td>\n",
       "      <td>...</td>\n",
       "      <td>...</td>\n",
       "    </tr>\n",
       "    <tr>\n",
       "      <th>aXz2VY8BeqktFCObxjQ5</th>\n",
       "      <td>crimes</td>\n",
       "      <td>0.0</td>\n",
       "      <td>{'reported_date': '2015-04-21T00:00:00', 'subu...</td>\n",
       "    </tr>\n",
       "    <tr>\n",
       "      <th>cXz2VY8BeqktFCObxjQ5</th>\n",
       "      <td>crimes</td>\n",
       "      <td>0.0</td>\n",
       "      <td>{'reported_date': '2015-04-21T00:00:00', 'subu...</td>\n",
       "    </tr>\n",
       "    <tr>\n",
       "      <th>o3z2VY8BeqktFCObxjQ5</th>\n",
       "      <td>crimes</td>\n",
       "      <td>0.0</td>\n",
       "      <td>{'reported_date': '2015-04-21T00:00:00', 'subu...</td>\n",
       "    </tr>\n",
       "    <tr>\n",
       "      <th>snz2VY8BeqktFCObxjQ5</th>\n",
       "      <td>crimes</td>\n",
       "      <td>0.0</td>\n",
       "      <td>{'reported_date': '2015-04-21T00:00:00', 'subu...</td>\n",
       "    </tr>\n",
       "    <tr>\n",
       "      <th>wHz2VY8BeqktFCObxjQ5</th>\n",
       "      <td>crimes</td>\n",
       "      <td>0.0</td>\n",
       "      <td>{'reported_date': '2015-04-21T00:00:00', 'subu...</td>\n",
       "    </tr>\n",
       "  </tbody>\n",
       "</table>\n",
       "<p>5000 rows × 3 columns</p>\n",
       "</div>"
      ],
      "text/plain": [
       "                      _index  _score  \\\n",
       "_id                                    \n",
       "SnrkVY8BeqktFCObSAM0  crimes     0.0   \n",
       "fXrkVY8BeqktFCObSAM0  crimes     0.0   \n",
       "kHrkVY8BeqktFCObSAM0  crimes     0.0   \n",
       "sXrkVY8BeqktFCObSAM0  crimes     0.0   \n",
       "tnrkVY8BeqktFCObSAM0  crimes     0.0   \n",
       "...                      ...     ...   \n",
       "aXz2VY8BeqktFCObxjQ5  crimes     0.0   \n",
       "cXz2VY8BeqktFCObxjQ5  crimes     0.0   \n",
       "o3z2VY8BeqktFCObxjQ5  crimes     0.0   \n",
       "snz2VY8BeqktFCObxjQ5  crimes     0.0   \n",
       "wHz2VY8BeqktFCObxjQ5  crimes     0.0   \n",
       "\n",
       "                                                                _source  \n",
       "_id                                                                      \n",
       "SnrkVY8BeqktFCObSAM0  {'reported_date': '2013-02-18T00:00:00', 'subu...  \n",
       "fXrkVY8BeqktFCObSAM0  {'reported_date': '2013-02-18T00:00:00', 'subu...  \n",
       "kHrkVY8BeqktFCObSAM0  {'reported_date': '2013-02-18T00:00:00', 'subu...  \n",
       "sXrkVY8BeqktFCObSAM0  {'reported_date': '2013-02-18T00:00:00', 'subu...  \n",
       "tnrkVY8BeqktFCObSAM0  {'reported_date': '2013-02-18T00:00:00', 'subu...  \n",
       "...                                                                 ...  \n",
       "aXz2VY8BeqktFCObxjQ5  {'reported_date': '2015-04-21T00:00:00', 'subu...  \n",
       "cXz2VY8BeqktFCObxjQ5  {'reported_date': '2015-04-21T00:00:00', 'subu...  \n",
       "o3z2VY8BeqktFCObxjQ5  {'reported_date': '2015-04-21T00:00:00', 'subu...  \n",
       "snz2VY8BeqktFCObxjQ5  {'reported_date': '2015-04-21T00:00:00', 'subu...  \n",
       "wHz2VY8BeqktFCObxjQ5  {'reported_date': '2015-04-21T00:00:00', 'subu...  \n",
       "\n",
       "[5000 rows x 3 columns]"
      ]
     },
     "execution_count": 88,
     "metadata": {},
     "output_type": "execute_result"
    }
   ],
   "source": [
    "# Missing header\n",
    "resp = requests.get(URL+'crime/23034/5000').text\n",
    "print((resp==PAGE_NOT_FOUND_STR))\n",
    "\n",
    "# Invalid station_id\n",
    "resp = requests.get(URL+'crime/STATION_ID/5000/3000').text\n",
    "print((resp==EMPTY_STR))\n",
    "\n",
    "# Invalid size\n",
    "resp = requests.get(URL+'crime/23034/SIZE/3000').text\n",
    "print((resp==ERROR_STR))\n",
    "\n",
    "# Size too big\n",
    "resp = requests.get(URL+'crime/23034/10500/3000').text\n",
    "print((resp==BAD_PARAMS_STR))\n",
    "\n",
    "# Invalid radius_km\n",
    "resp = requests.get(URL+'crime/23034/5000/RADIUS_KM').text\n",
    "print((resp==ERROR_STR))\n",
    "\n",
    "# Negative radius_km\n",
    "resp = requests.get(URL+'crime/23034/5000/-3000').text\n",
    "print(resp)\n",
    "print((resp==BAD_PARAMS_STR))\n",
    "\n",
    "# Valid parameters\n",
    "resp = requests.get(URL+'crime/23034/5000/10').json()\n",
    "df_crime = pd.DataFrame.from_records(resp['Data'], index='_id')\n",
    "df_crime.shape[0]==5000"
   ]
  },
  {
   "cell_type": "code",
   "execution_count": null,
   "metadata": {},
   "outputs": [],
   "source": []
  }
 ],
 "metadata": {
  "kernelspec": {
   "display_name": "Python 3",
   "language": "python",
   "name": "python3"
  },
  "language_info": {
   "codemirror_mode": {
    "name": "ipython",
    "version": 3
   },
   "file_extension": ".py",
   "mimetype": "text/x-python",
   "name": "python",
   "nbconvert_exporter": "python",
   "pygments_lexer": "ipython3",
   "version": "3.11.2"
  }
 },
 "nbformat": 4,
 "nbformat_minor": 2
}
