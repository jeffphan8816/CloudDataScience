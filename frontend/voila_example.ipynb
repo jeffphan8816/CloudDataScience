{
 "cells": [
  {
   "cell_type": "code",
   "execution_count": 4,
   "metadata": {},
   "outputs": [],
   "source": [
    "from IPython.display import display, HTML\n",
    "\n",
    "html_content = \"\"\"\n",
    "<div id=\"splash-screen\" style='height:100vh; width:100vw; display:flex; align-items:center; justify-content:center; flex-direction:column;'>\n",
    "    <h1>Welcome to My App!</h1>\n",
    "    <p>Loading, please wait...</p>\n",
    "    <div style='width:50px; height:50px; border-radius:50%; border: 5px solid #f3f3f3; border-top: 5px solid #3498db; animation: spin 2s linear infinite;'></div>\n",
    "</div>\n",
    "<script>\n",
    "    setTimeout(function() {\n",
    "        var splashScreen = document.getElementById('splash-screen');\n",
    "        splashScreen.style.display = 'none';\n",
    "    }, 2000); // Change 500 to the number of milliseconds you want the splash screen to appear\n",
    "</script>\n",
    "<style>\n",
    "    @keyframes spin {\n",
    "        0% { transform: rotate(0deg); }\n",
    "        100% { transform: rotate(360deg); }\n",
    "    }\n",
    "</style>\n",
    "\"\"\"\n",
    "\n",
    "display(HTML(html_content))\n"
   ]
  },
  {
   "cell_type": "markdown",
   "metadata": {},
   "source": [
    "![title](img/isitsafe_banner.webp)\n",
    "Hello"
   ]
  },
  {
   "cell_type": "code",
   "execution_count": 7,
   "metadata": {},
   "outputs": [
    {
     "data": {
      "application/vnd.jupyter.widget-view+json": {
       "model_id": "ad26eb40f6ca4405a4475610bc10e8f0",
       "version_major": 2,
       "version_minor": 0
      },
      "text/plain": [
       "VBox(children=(FloatSlider(value=14.0, description='x'), FloatText(value=196.0, description='$x^2$', disabled=…"
      ]
     },
     "execution_count": 7,
     "metadata": {},
     "output_type": "execute_result"
    }
   ],
   "source": [
    "import ipywidgets as widgets\n",
    "\n",
    "slider = widgets.FloatSlider(description='x')\n",
    "text = widgets.FloatText(disabled=True, description='$x^2$')\n",
    "text.disabled\n",
    "def compute(*ignore):\n",
    "    text.value = str(slider.value**2)\n",
    "slider.observe(compute, 'value')\n",
    "slider.value = 14\n",
    "widgets.VBox([slider, text])"
   ]
  },
  {
   "cell_type": "code",
   "execution_count": 8,
   "metadata": {},
   "outputs": [
    {
     "ename": "TypeError",
     "evalue": "'module' object is not callable",
     "output_type": "error",
     "traceback": [
      "\u001b[0;31m---------------------------------------------------------------------------\u001b[0m",
      "\u001b[0;31mTypeError\u001b[0m                                 Traceback (most recent call last)",
      "Cell \u001b[0;32mIn[8], line 10\u001b[0m\n\u001b[1;32m      7\u001b[0m marker \u001b[38;5;241m=\u001b[39m Marker(location\u001b[38;5;241m=\u001b[39mcenter, draggable\u001b[38;5;241m=\u001b[39m\u001b[38;5;28;01mTrue\u001b[39;00m)\n\u001b[1;32m      8\u001b[0m mm\u001b[38;5;241m.\u001b[39madd(marker)\n\u001b[0;32m---> 10\u001b[0m \u001b[43mdisplay\u001b[49m\u001b[43m(\u001b[49m\u001b[43mmm\u001b[49m\u001b[43m)\u001b[49m\n\u001b[1;32m     12\u001b[0m \u001b[38;5;66;03m# # Now that the marker is on the Map, you can drag it with your mouse,\u001b[39;00m\n\u001b[1;32m     13\u001b[0m \u001b[38;5;66;03m# # it will automatically update the `marker.location` attribute in Python\u001b[39;00m\n\u001b[1;32m     14\u001b[0m \n\u001b[1;32m     15\u001b[0m \u001b[38;5;66;03m# # You can also update the marker location from Python, that will update the\u001b[39;00m\n\u001b[1;32m     16\u001b[0m \u001b[38;5;66;03m# # marker location on the Map:\u001b[39;00m\n\u001b[1;32m     17\u001b[0m \u001b[38;5;66;03m# marker.location = (50, 356)\u001b[39;00m\n",
      "\u001b[0;31mTypeError\u001b[0m: 'module' object is not callable"
     ]
    }
   ],
   "source": [
    "from ipyleaflet import Map, Marker\n",
    "\n",
    "center = (52.204793, 360.121558)\n",
    "\n",
    "mm = Map(center=center, zoom=15)\n",
    "\n",
    "marker = Marker(location=center, draggable=True)\n",
    "mm.add(marker)\n",
    "\n",
    "display(mm)\n"
   ]
  },
  {
   "cell_type": "markdown",
   "metadata": {},
   "source": [
    "https://stackoverflow.com/questions/76313575/widgets-not-rendering-in-voila  \n",
    "https://voila-gallery.org/"
   ]
  },
  {
   "cell_type": "code",
   "execution_count": 9,
   "metadata": {},
   "outputs": [
    {
     "data": {
      "application/vnd.jupyter.widget-view+json": {
       "model_id": "e95ae984e2724e4bafee23e13bd146d6",
       "version_major": 2,
       "version_minor": 0
      },
      "text/plain": [
       "Button(description='run', style=ButtonStyle())"
      ]
     },
     "metadata": {},
     "output_type": "display_data"
    },
    {
     "data": {
      "application/vnd.jupyter.widget-view+json": {
       "model_id": "269f9cb72db745b695b3a660ee6858bf",
       "version_major": 2,
       "version_minor": 0
      },
      "text/plain": [
       "Output()"
      ]
     },
     "execution_count": 9,
     "metadata": {},
     "output_type": "execute_result"
    }
   ],
   "source": [
    "# sort of based on https://github.com/voila-dashboards/voila-material/issues/18\n",
    "import ipywidgets as widgets\n",
    "from IPython.display import display\n",
    "output = widgets.Output()\n",
    "\n",
    "@output.capture(clear_output=False,wait=True) # based on https://github.com/jupyter-widgets/ipywidgets/issues/1846 and https://ipywidgets.readthedocs.io/en/latest/examples/Output%20Widget.html\n",
    "def sayHello(b):\n",
    "    print('Hello world asdfasdf!')\n",
    "\n",
    "run_button = widgets.Button(\n",
    "      description = 'run'\n",
    ")\n",
    "run_button.on_click(sayHello)\n",
    "display(run_button)\n",
    "output"
   ]
  },
  {
   "cell_type": "code",
   "execution_count": 10,
   "metadata": {},
   "outputs": [
    {
     "data": {
      "application/vnd.jupyter.widget-view+json": {
       "model_id": "5bce2a2444a149e2be03e09f0335a292",
       "version_major": 2,
       "version_minor": 0
      },
      "text/plain": [
       "Button(description='run another button', style=ButtonStyle())"
      ]
     },
     "metadata": {},
     "output_type": "display_data"
    },
    {
     "data": {
      "application/vnd.jupyter.widget-view+json": {
       "model_id": "0223629e788e453083428206b6381933",
       "version_major": 2,
       "version_minor": 0
      },
      "text/plain": [
       "Output()"
      ]
     },
     "execution_count": 10,
     "metadata": {},
     "output_type": "execute_result"
    }
   ],
   "source": [
    "# sort of based on https://github.com/voila-dashboards/voila-material/issues/18\n",
    "import ipywidgets as widgets\n",
    "from IPython.display import display\n",
    "import random\n",
    "output = widgets.Output()\n",
    "\n",
    "@output.capture(clear_output=True,wait=True)\n",
    "def sayHello2(b):\n",
    "    print(random.randint(0, 9))\n",
    "\n",
    "run_button = widgets.Button(\n",
    "        description = 'run another button'\n",
    ")\n",
    "run_button.on_click(sayHello2)\n",
    "display(run_button)\n",
    "output"
   ]
  },
  {
   "cell_type": "code",
   "execution_count": 11,
   "metadata": {},
   "outputs": [
    {
     "data": {
      "application/vnd.jupyter.widget-view+json": {
       "model_id": "a11bab57816b4a63bf30b9ba28975586",
       "version_major": 2,
       "version_minor": 0
      },
      "text/plain": [
       "Button(description='run weather', style=ButtonStyle())"
      ]
     },
     "metadata": {},
     "output_type": "display_data"
    },
    {
     "data": {
      "application/vnd.jupyter.widget-view+json": {
       "model_id": "9f6c92c3587a4d4a9dc4bedf01bf07f2",
       "version_major": 2,
       "version_minor": 0
      },
      "text/plain": [
       "Output()"
      ]
     },
     "execution_count": 11,
     "metadata": {},
     "output_type": "execute_result"
    }
   ],
   "source": [
    "import ipywidgets as widgets\n",
    "from IPython.display import display\n",
    "import requests\n",
    "\n",
    "\n",
    "output = widgets.Output()\n",
    "\n",
    "@output.capture(clear_output=False,wait=True)\n",
    "def get_weather(b):\n",
    "    response = requests.get(f'http://reg.bom.gov.au/fwo/IDV60901/IDV60901.95936.json')\n",
    "    out = response.json()['observations']['data'][0]\n",
    "    print(out)\n",
    "    return out\n",
    "\n",
    "run_button = widgets.Button(\n",
    "      description = 'run weather'\n",
    ")\n",
    "run_button.on_click(get_weather)\n",
    "display(run_button)\n",
    "output"
   ]
  },
  {
   "cell_type": "code",
   "execution_count": 1,
   "metadata": {},
   "outputs": [
    {
     "name": "stderr",
     "output_type": "stream",
     "text": [
      "/tmp/ipykernel_121811/421570487.py:1: DeprecationWarning: Importing display from IPython.core.display is deprecated since IPython 7.14, please import from IPython display\n",
      "  from IPython.core.display import display, HTML\n"
     ]
    },
    {
     "data": {
      "text/html": [
       "<p><h3><centre> This is a sample Dashboard made with Jupyter Notebook & Voila</centre></h3></p>"
      ],
      "text/plain": [
       "<IPython.core.display.HTML object>"
      ]
     },
     "metadata": {},
     "output_type": "display_data"
    }
   ],
   "source": [
    "\n",
    "from IPython.core.display import display, HTML\n",
    "display(HTML('<p><h3><centre> Example formatting - This is a sample Dashboard made with Jupyter Notebook & Voila</centre></h3></p>'))\n"
   ]
  },
  {
   "cell_type": "markdown",
   "metadata": {},
   "source": [
    "\n",
    "\n",
    "Run with:\n",
    "voila frontend/voila_example.ipynb --theme=dark\n",
    "<!-- voila frontend/test.ipynb --template=gridstack -->"
   ]
  }
 ],
 "metadata": {
  "kernelspec": {
   "display_name": "Python 3 (ipykernel)",
   "language": "python",
   "name": "python3"
  },
  "language_info": {
   "codemirror_mode": {
    "name": "ipython",
    "version": 3
   },
   "file_extension": ".py",
   "mimetype": "text/x-python",
   "name": "python",
   "nbconvert_exporter": "python",
   "pygments_lexer": "ipython3",
   "version": "3.10.12"
  }
 },
 "nbformat": 4,
 "nbformat_minor": 4
}
