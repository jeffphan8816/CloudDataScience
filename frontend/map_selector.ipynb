{
 "cells": [
  {
   "cell_type": "code",
   "execution_count": 10,
   "metadata": {},
   "outputs": [],
   "source": [
    "from ipyleaflet import Map, Marker, LayerGroup\n",
    "from ipywidgets import Output\n",
    "from IPython.display import display\n",
    "\n",
    "# Create an output widget to capture interaction\n",
    "out = Output()\n",
    "\n",
    "# Create a map centered at Australia's approximate center\n",
    "center = [-25.2744, 133.7751]\n",
    "m = Map(center=center, zoom=4)\n",
    "\n",
    "# Create a layer group to hold the marker\n",
    "marker_layer = LayerGroup()\n",
    "m.add_layer(marker_layer)\n",
    "\n",
    "# Variable to store coordinates\n",
    "coords = None\n",
    "\n",
    "# Handle marker placement\n",
    "def handle_interaction(**kwargs):\n",
    "    global coords, marker\n",
    "    if kwargs.get('type') == 'click':\n",
    "        coords = kwargs.get('coordinates')\n",
    "        with out:\n",
    "            out.clear_output()\n",
    "            print(f\"Latitude: {coords[0]}, Longitude: {coords[1]}\")\n",
    "\n",
    "        marker_layer.clear_layers()\n",
    "        # Add a new draggable marker at the clicked location\n",
    "        marker = Marker(location=coords, draggable=True)\n",
    "        marker.observe(handle_drag, names='location')\n",
    "        marker_layer.add_layer(marker)\n",
    "\n",
    "# Handle marker dragging - otherwise the coords will not update\n",
    "def handle_drag(event):\n",
    "    global coords\n",
    "    coords = event['new']\n",
    "    with out:\n",
    "        out.clear_output()\n",
    "        print(f\"Latitude: {coords[0]}, Longitude: {coords[1]}\")\n",
    "\n",
    "# Attach the function to the map\n",
    "m.on_interaction(handle_interaction)\n"
   ]
  },
  {
   "cell_type": "code",
   "execution_count": 11,
   "metadata": {},
   "outputs": [
    {
     "data": {
      "application/vnd.jupyter.widget-view+json": {
       "model_id": "b50ce7b2fb2447e28effa7f34e261652",
       "version_major": 2,
       "version_minor": 0
      },
      "text/plain": [
       "Map(center=[-25.2744, 133.7751], controls=(ZoomControl(options=['position', 'zoom_in_text', 'zoom_in_title', '…"
      ]
     },
     "metadata": {},
     "output_type": "display_data"
    },
    {
     "data": {
      "application/vnd.jupyter.widget-view+json": {
       "model_id": "43884fca5b9a46d982ff6d5df1c53470",
       "version_major": 2,
       "version_minor": 0
      },
      "text/plain": [
       "Output()"
      ]
     },
     "metadata": {},
     "output_type": "display_data"
    }
   ],
   "source": [
    "# Display the map with the selector widget\n",
    "display(m, out)"
   ]
  },
  {
   "cell_type": "code",
   "execution_count": 13,
   "metadata": {},
   "outputs": [
    {
     "name": "stdout",
     "output_type": "stream",
     "text": [
      "Using coordinates: Latitude: -36.949891786813275, Longitude: 145.98632812500003\n"
     ]
    }
   ],
   "source": [
    "# Example function to use the captured coordinates\n",
    "def use_coordinates():\n",
    "    if coords:\n",
    "        print(f\"Using coordinates: Latitude: {coords[0]}, Longitude: {coords[1]}\")\n",
    "    else:\n",
    "        print(\"No coordinates selected yet.\")\n",
    "\n",
    "use_coordinates()"
   ]
  }
 ],
 "metadata": {
  "kernelspec": {
   "display_name": "Python 3",
   "language": "python",
   "name": "python3"
  },
  "language_info": {
   "codemirror_mode": {
    "name": "ipython",
    "version": 3
   },
   "file_extension": ".py",
   "mimetype": "text/x-python",
   "name": "python",
   "nbconvert_exporter": "python",
   "pygments_lexer": "ipython3",
   "version": "3.10.2"
  }
 },
 "nbformat": 4,
 "nbformat_minor": 2
}
