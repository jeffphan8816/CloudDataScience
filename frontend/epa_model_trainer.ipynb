{
 "cells": [
  {
   "cell_type": "code",
   "execution_count": 186,
   "id": "b80e69c0-3cda-4325-87cb-a858c1da60ff",
   "metadata": {},
   "outputs": [],
   "source": [
    "import requests\n",
    "import pandas as pd\n",
    "import os\n",
    "import json\n",
    "from datetime import datetime\n",
    "from sklearn.linear_model import LinearRegression\n",
    "import matplotlib.pyplot as plt \n",
    "import pickle"
   ]
  },
  {
   "cell_type": "markdown",
   "id": "8c9a4227-554f-4f7f-b80e-75571c95625b",
   "metadata": {},
   "source": [
    "# Constants"
   ]
  },
  {
   "cell_type": "code",
   "execution_count": 142,
   "id": "45fea4a9-d1b0-47b3-8dd4-31e7eb569c7f",
   "metadata": {},
   "outputs": [],
   "source": [
    "URL = 'http://172.26.135.52:9090/'\n",
    "HEADERS = {'HOST': 'fission'}"
   ]
  },
  {
   "cell_type": "markdown",
   "id": "9c7736c6-eea1-489e-99cf-ff7abf475edf",
   "metadata": {},
   "source": [
    "# Get list of stations"
   ]
  },
  {
   "cell_type": "code",
   "execution_count": 143,
   "id": "e45ba167-5e3c-4bc7-94ab-56008283cacd",
   "metadata": {},
   "outputs": [],
   "source": [
    "ret = requests.get(os.path.join(URL, 'stations'), headers=HEADERS)\n",
    "station_resp = json.loads(ret.text)\n",
    "try:\n",
    "    if station_resp['Status'] == 200:\n",
    "        station_list = [x['Station ID'] for x in station_resp['Data']]\n",
    "except:\n",
    "    print('Error receiving response from server')"
   ]
  },
  {
   "cell_type": "markdown",
   "id": "d013d7bf-af7c-4cb2-8a3c-7b0a0527cce1",
   "metadata": {},
   "source": [
    "# Define functions to get EPA data"
   ]
  },
  {
   "cell_type": "code",
   "execution_count": 183,
   "id": "bc521fa4-7635-47cf-983d-a86454318df2",
   "metadata": {},
   "outputs": [],
   "source": [
    "def filter_metric(results: list[dict], metric: str, station: str) -> list[dict]:\n",
    "    \"\"\"\n",
    "    Filter specific metric and add station tag\n",
    "    \n",
    "    @param results is the raw data from ES\n",
    "    @param metric is the metric to filter\n",
    "    @param station is the station number as a string\n",
    "    @return a list of dictionaries of data\n",
    "    \"\"\"\n",
    "    out = []\n",
    "    for result in results:\n",
    "        try:\n",
    "            if result['_source']['measure_name'] == metric:\n",
    "                out.append(result['_source'])\n",
    "        except:\n",
    "            continue\n",
    "    for o in out:\n",
    "        o['Station'] = station\n",
    "    return out\n",
    "\n",
    "def get_readings(station: str, metric: str) -> list[dict]:\n",
    "    \"\"\"\n",
    "    Get the readings from a station for a specific metric\n",
    "\n",
    "    @param station is the station number to query\n",
    "    @param metric is the metric to filter\n",
    "    @return list of dicts of filtered data\n",
    "    \"\"\"\n",
    "    out = []\n",
    "    # Get station location\n",
    "    ret = requests.get(os.path.join(URL, 'epa', str(station), '1000', '50'), headers=HEADERS)\n",
    "    # Load response as json\n",
    "    try:\n",
    "        epa_resp_data = json.loads(ret.text)\n",
    "        if epa_resp_data['Status'] == 200:\n",
    "            out.extend(epa_resp_data['Data'])\n",
    "        else:\n",
    "            return []\n",
    "    except:\n",
    "        return []\n",
    "    while 'Token' in epa_resp_data.keys() and epa_resp_data['Token'] != 'END' and len(epa_resp_data['Data']) != 0:\n",
    "        ret = requests.get(os.path.join(URL, 'stream', epa_resp_data['Token']), headers=HEADERS)\n",
    "        try:\n",
    "            epa_resp_data = json.loads(ret.text)\n",
    "            out.extend(epa_resp_data['Data'])\n",
    "        except:\n",
    "            break\n",
    "    return filter_metric(out, metric, station)\n",
    "    "
   ]
  },
  {
   "cell_type": "markdown",
   "id": "8a7a64b5-bdd8-4400-bce9-b9df27bc5c6c",
   "metadata": {},
   "source": [
    "# Define function to get weather"
   ]
  },
  {
   "cell_type": "code",
   "execution_count": 145,
   "id": "4ea2c61a-174c-422c-ab26-d4dccd0a55f1",
   "metadata": {},
   "outputs": [],
   "source": [
    "def get_weather(station: str, start: int, end: int) -> list[dict]:\n",
    "    \"\"\"\n",
    "    Get the weather from a station for a given year range\n",
    "\n",
    "    @param station is the string of the station number\n",
    "    @param start is the start year\n",
    "    @param end is the end year\n",
    "    @return list of dicts of weather\n",
    "    \"\"\"\n",
    "    ret = requests.get(os.path.join(URL, 'weather', station, str(start), str(end)), headers=HEADERS)\n",
    "    try:\n",
    "        weather_data_json = json.loads(ret.text)\n",
    "        if weather_data_json['Status'] == '200':\n",
    "            weather_data = weather_data_json['Data']\n",
    "            weather_list = [weather_data['hits']['hits'][i]['_source'] for i in range(len(weather_data['hits']['hits']))]\n",
    "            for item in weather_list:\n",
    "                item['Station'] = station\n",
    "            return weather_list\n",
    "    except:\n",
    "        pass\n",
    "    return []"
   ]
  },
  {
   "cell_type": "markdown",
   "id": "04e197cc-54c1-4a84-8b7a-f108e28dedf8",
   "metadata": {},
   "source": [
    "# Get EPA data"
   ]
  },
  {
   "cell_type": "code",
   "execution_count": 146,
   "id": "1fd6e01d-8431-4e57-9442-76dfc54b65d0",
   "metadata": {},
   "outputs": [],
   "source": [
    "epa_df = None\n",
    "for station in station_list:\n",
    "    temp_df = pd.DataFrame.from_records(get_readings(station, 'PM10'))\n",
    "    if epa_df is None:\n",
    "        epa_df = temp_df.copy()\n",
    "    else:\n",
    "        epa_df = pd.concat([epa_df, temp_df])"
   ]
  },
  {
   "cell_type": "markdown",
   "id": "ef7730a5-9f65-41c9-9ac3-ec63c1e6c87f",
   "metadata": {},
   "source": [
    "# Clean EPA data"
   ]
  },
  {
   "cell_type": "code",
   "execution_count": 147,
   "id": "e1a4180b-8676-449a-9148-8e9422db465e",
   "metadata": {},
   "outputs": [],
   "source": [
    "epa_df['location'] = epa_df['location'].apply(lambda x: (x[0], x[1]))\n",
    "epa_df = epa_df.drop_duplicates(subset=epa_df.columns.difference(['station']))\n",
    "epa_df['start'] = epa_df['start'].apply(lambda x: datetime.strptime(x.split('T')[0], '%Y-%m-%d'))\n",
    "epa_df['end'] = epa_df['end'].apply(lambda x: datetime.strptime(x.split('T')[0], '%Y-%m-%d'))\n",
    "epa_df['Date'] = epa_df['start']"
   ]
  },
  {
   "cell_type": "markdown",
   "id": "a4256ff6-874d-468f-93cc-4018ec64864f",
   "metadata": {},
   "source": [
    "# Get Weather"
   ]
  },
  {
   "cell_type": "code",
   "execution_count": 149,
   "id": "56a1aee3-ca29-4896-b0ce-8a50574699a2",
   "metadata": {},
   "outputs": [],
   "source": [
    "min_year = epa_df['start'].min().year\n",
    "max_year = epa_df['start'].max().year + 1\n",
    "weather_df = None\n",
    "for station in epa_df['Station'].unique():\n",
    "    ret = requests.get(os.path.join(URL, 'weather', str(station), str(min_year), str(max_year)))\n",
    "    try:\n",
    "        weather_json = json.loads(ret.text)\n",
    "        if weather_json['Status'] == 200:\n",
    "            if weather_df is None:\n",
    "                weather_df = pd.DataFrame.from_records(weather_json['Data'])\n",
    "                weather_df['Station'] = station\n",
    "            else:\n",
    "                temp_df = pd.DataFrame.from_records(weather_json['Data'])\n",
    "                temp_df['Station'] = station\n",
    "                weather_df = pd.concat([weather_df, temp_df])\n",
    "    except:\n",
    "        continue"
   ]
  },
  {
   "cell_type": "markdown",
   "id": "87416e59-9cb2-4237-bd83-7d44cb92bda3",
   "metadata": {},
   "source": [
    "# Create combined data for training"
   ]
  },
  {
   "cell_type": "code",
   "execution_count": 151,
   "id": "07b7e535-c8c4-40cb-b4bd-82f8b381e686",
   "metadata": {},
   "outputs": [],
   "source": [
    "weather_df['Date'] = weather_df['Date'].apply(lambda x: datetime.strptime(x.split('T')[0], '%d/%m/%Y'))\n",
    "combined_df = pd.merge(epa_df, weather_df, on=['Date', 'Station'], how='inner')\n",
    "weather_columns = ['UV', 'Min Temp', 'Max Temp', 'WindSpeed', 'Min Humid', 'Max Humid', 'Rain', 'Pan-Rain', 'Evapo-Rain']"
   ]
  },
  {
   "cell_type": "markdown",
   "id": "537a4607-78d7-47a4-888c-00408369f4a9",
   "metadata": {},
   "source": [
    "# Create model"
   ]
  },
  {
   "cell_type": "code",
   "execution_count": 193,
   "id": "97403b35-52ef-45fa-9e16-fd81394c57f1",
   "metadata": {},
   "outputs": [],
   "source": [
    "model = LinearRegression()\n",
    "model.fit(combined_df[weather_columns], combined_df['value'])\n",
    "with open('./epa_model', 'wb') as file:\n",
    "    pickle.dump(model, file)"
   ]
  },
  {
   "cell_type": "markdown",
   "id": "05ea4f0a-beb7-4192-b231-f04b57c105f5",
   "metadata": {},
   "source": [
    "# Interactive "
   ]
  },
  {
   "cell_type": "code",
   "execution_count": 185,
   "id": "13448345-3374-48b5-9147-985eb7318a35",
   "metadata": {},
   "outputs": [
    {
     "data": {
      "application/vnd.jupyter.widget-view+json": {
       "model_id": "be8c6dc43adc452d9410cd6b538adda2",
       "version_major": 2,
       "version_minor": 0
      },
      "text/plain": [
       "interactive(children=(Dropdown(description='Metric', options=('UV', 'Min Temp', 'Max Temp', 'WindSpeed', 'Min …"
      ]
     },
     "metadata": {},
     "output_type": "display_data"
    },
    {
     "data": {
      "text/plain": [
       "<function __main__.display(Metric)>"
      ]
     },
     "execution_count": 185,
     "metadata": {},
     "output_type": "execute_result"
    }
   ],
   "source": [
    "from ipywidgets import interact \n",
    "def display(Metric): \n",
    "    plt.scatter(combined_df[Metric], combined_df['value'])\n",
    "    plt.show()\n",
    "    return Metric\n",
    "interact(display, Metric=weather_columns)"
   ]
  },
  {
   "cell_type": "code",
   "execution_count": 194,
   "id": "784eb666-a027-48cb-ab68-c91bbdf97a55",
   "metadata": {},
   "outputs": [
    {
     "ename": "SyntaxError",
     "evalue": "invalid syntax (1082825798.py, line 1)",
     "output_type": "error",
     "traceback": [
      "\u001b[0;36m  Cell \u001b[0;32mIn[194], line 1\u001b[0;36m\u001b[0m\n\u001b[0;31m    $pwd\u001b[0m\n\u001b[0m    ^\u001b[0m\n\u001b[0;31mSyntaxError\u001b[0m\u001b[0;31m:\u001b[0m invalid syntax\n"
     ]
    }
   ],
   "source": [
    "$pwd"
   ]
  },
  {
   "cell_type": "code",
   "execution_count": null,
   "id": "8c73bccb-3200-40d2-8d6a-4447f9ea5f99",
   "metadata": {},
   "outputs": [],
   "source": []
  }
 ],
 "metadata": {
  "kernelspec": {
   "display_name": "Python 3 (ipykernel)",
   "language": "python",
   "name": "python3"
  },
  "language_info": {
   "codemirror_mode": {
    "name": "ipython",
    "version": 3
   },
   "file_extension": ".py",
   "mimetype": "text/x-python",
   "name": "python",
   "nbconvert_exporter": "python",
   "pygments_lexer": "ipython3",
   "version": "3.12.2"
  }
 },
 "nbformat": 4,
 "nbformat_minor": 5
}
