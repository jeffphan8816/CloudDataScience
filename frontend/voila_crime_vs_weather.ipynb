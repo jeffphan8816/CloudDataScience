{
 "cells": [
  {
   "cell_type": "markdown",
   "metadata": {},
   "source": [
    "# Imports"
   ]
  },
  {
   "cell_type": "code",
   "execution_count": 116,
   "metadata": {},
   "outputs": [],
   "source": [
    "import requests\n",
    "import json\n",
    "import pickle\n",
    "import pandas as pd\n",
    "import seaborn as sns\n",
    "import matplotlib.pyplot as plt\n",
    "from IPython.display import display, HTML\n",
    "import ipywidgets as widgets\n",
    "from ipyleaflet import Map, Marker\n",
    "\n",
    "\n",
    "from scipy.stats import pearsonr\n",
    "from sklearn.linear_model import LinearRegression\n",
    "\n",
    "RUN_FROM = 'uni_wifi' #'bastion'\n",
    "\n",
    "if RUN_FROM == 'bastion' : URL, HEADERS = 'http://fission:31001/', None\n",
    "if RUN_FROM == 'uni_wifi': URL, HEADERS =  'http://172.26.135.52:9090/', {'HOST': 'fission'}\n",
    "\n",
    "WEATHER_NUM_COL = ['UV', 'Min Temp', 'Max Temp', 'WindSpeed', 'Min Humid', 'Max Humid', 'Rain', 'Pan-Rain', 'Evapo-Rain']"
   ]
  },
  {
   "cell_type": "markdown",
   "metadata": {},
   "source": [
    "# Functions"
   ]
  },
  {
   "cell_type": "code",
   "execution_count": 117,
   "metadata": {},
   "outputs": [],
   "source": [
    "def weather_to_pd(station_id: str, start_year: int, end_year: int, verb=False) -> pd.DataFrame:\n",
    "    resp_dict = requests.get(URL+f'weather/{station_id}/{start_year}/{end_year}', headers=HEADERS).json()\n",
    "    if verb : print(str(resp_dict)[:100])\n",
    "    data = resp_dict['Data']\n",
    "    if verb : print(f'Called weather api, fetched {len(data)} lines')\n",
    "    return pd.DataFrame.from_records(data)"
   ]
  },
  {
   "cell_type": "code",
   "execution_count": 145,
   "metadata": {},
   "outputs": [],
   "source": [
    "def get_stream_to_pd(api: str, station_id: str, size: int, radius_km: int, year=None, verb=False) -> pd.DataFrame:\n",
    "\n",
    "    if year is None :\n",
    "        resp_dict = requests.get(URL+api+f'/{station_id}/{size}/{radius_km}',\n",
    "                                 headers=HEADERS).json()\n",
    "    else :\n",
    "        resp_dict = requests.get(URL+api+f'/{station_id}/{size}/{radius_km}',\n",
    "                                 params=f'year={year}', headers=HEADERS).json()\n",
    "    if verb : print(str(resp_dict)[:100])\n",
    "\n",
    "    count=0\n",
    "    status, token, new_data = resp_dict['Status'], resp_dict['Token'], resp_dict['Data']\n",
    "    data = [new_data[i]['_source'] for i in range(len(new_data))]\n",
    "    if verb : print(f'Called {api} api, fetched {len(new_data)} lines')\n",
    "\n",
    "\n",
    "    while (status == 200) and (new_data != []) :\n",
    "        count+=1\n",
    "        resp_dict = json.loads(requests.get(URL+f'stream/'+token, headers=HEADERS).text)\n",
    "        status, token, new_data = resp_dict['Status'], resp_dict['Token'], resp_dict['Data']\n",
    "        if verb : print(f'Called stream {count} times, fetched {len(new_data)} new lines')\n",
    "        data += [new_data[i]['_source'] for i in range(len(new_data))]\n",
    "\n",
    "    if verb: print(f'Fetched a total of {len(data)}lines')\n",
    "    return pd.DataFrame.from_records(data)"
   ]
  },
  {
   "cell_type": "code",
   "execution_count": 119,
   "metadata": {},
   "outputs": [],
   "source": [
    "def clean_weather_pd(df_weather_full):\n",
    "    df_weather = df_weather_full.copy()\n",
    "\n",
    "    for col in WEATHER_NUM_COL:\n",
    "        df_weather[col] = pd.to_numeric(df_weather[col])\n",
    "\n",
    "    df_weather = df_weather.rename(columns={'Date':'date'})\n",
    "    df_weather['date'] = pd.to_datetime(df_weather['date'], format='%d/%m/%Y').dt.date\n",
    "    df_weather = df_weather.drop(columns=['created_at','source', 'Station Name'])\n",
    "\n",
    "    return df_weather"
   ]
  },
  {
   "cell_type": "code",
   "execution_count": 120,
   "metadata": {},
   "outputs": [],
   "source": [
    "def clean_crime_df(df_crime_full):\n",
    "    df_crime = df_crime_full.groupby(['reported_date', 'description_1'])['offence_count'].sum().reset_index()\n",
    "\n",
    "    df_crime = df_crime.rename(columns={'reported_date':'date'})\n",
    "    df_crime['date'] = pd.to_datetime(df_crime['date']).dt.date\n",
    "\n",
    "    return df_crime"
   ]
  },
  {
   "cell_type": "code",
   "execution_count": 190,
   "metadata": {},
   "outputs": [],
   "source": [
    "def get_prediction_from_api(model_name, values):\n",
    "    params = {'predictors': ','.join(map(str, values))}\n",
    "    response = requests.get(URL+f'models/{model_name}', params=params)\n",
    "    return response"
   ]
  },
  {
   "cell_type": "markdown",
   "metadata": {},
   "source": [
    "# Welcome to IISTGO"
   ]
  },
  {
   "cell_type": "markdown",
   "metadata": {},
   "source": [
    "![title](img/isitsafe_banner.webp)"
   ]
  },
  {
   "cell_type": "markdown",
   "metadata": {},
   "source": [
    "### Where do you live?"
   ]
  },
  {
   "cell_type": "code",
   "execution_count": 133,
   "metadata": {},
   "outputs": [
    {
     "data": {
      "application/vnd.jupyter.widget-view+json": {
       "model_id": "e4e5aee7ffec42bcb65fd72a16160b46",
       "version_major": 2,
       "version_minor": 0
      },
      "text/plain": [
       "Map(center=[-38.0, 145.0], controls=(ZoomControl(options=['position', 'zoom_in_text', 'zoom_in_title', 'zoom_o…"
      ]
     },
     "metadata": {},
     "output_type": "display_data"
    }
   ],
   "source": [
    "# Choose your position\n",
    "center = (-38., 145.)\n",
    "mm = Map(center=center, zoom=6)\n",
    "marker = Marker(location=center, draggable=True)\n",
    "mm.add(marker)\n",
    "display(mm)"
   ]
  },
  {
   "cell_type": "code",
   "execution_count": 180,
   "metadata": {},
   "outputs": [
    {
     "data": {
      "application/vnd.jupyter.widget-view+json": {
       "model_id": "120f3a3f4466452b808fd2e40908394e",
       "version_major": 2,
       "version_minor": 0
      },
      "text/plain": [
       "VBox(children=(FloatSlider(value=50.0, description='Radius in km', max=700.0),))"
      ]
     },
     "execution_count": 180,
     "metadata": {},
     "output_type": "execute_result"
    }
   ],
   "source": [
    "#Choose your radius for study\n",
    "slider = widgets.FloatSlider(description='Radius in km', min=0, max=700)\n",
    "slider.value = 50\n",
    "widgets.VBox([slider])"
   ]
  },
  {
   "cell_type": "code",
   "execution_count": 209,
   "metadata": {},
   "outputs": [
    {
     "name": "stdout",
     "output_type": "stream",
     "text": [
      "Chosen Coordinates: [-37.87485339352928, 144.95321321522414]\n",
      "Chosen study radius: 569.4 km\n",
      "Closest weather station name and ID: St Kilda Harbour RMYS 86220\n",
      "Study conducted over the last ten years\n"
     ]
    }
   ],
   "source": [
    "# Summary of the study\n",
    "LOCATION = marker.location\n",
    "RADIUS = slider.value\n",
    "\n",
    "resp = requests.get(URL+f'stations/{LOCATION[1]}/{LOCATION[0]}').json()\n",
    "STATION_ID = resp['Data']['Station ID']\n",
    "\n",
    "print(f'Chosen Coordinates: {LOCATION}')\n",
    "print(f'Chosen study radius: {RADIUS} km')\n",
    "print(f'Closest weather station name and ID: {resp[\"Data\"][\"Station Name\"]} {STATION_ID}')\n",
    "print(f'Study conducted over the last ten years')"
   ]
  },
  {
   "cell_type": "markdown",
   "metadata": {},
   "source": [
    "### General trends over the last year"
   ]
  },
  {
   "cell_type": "code",
   "execution_count": null,
   "metadata": {},
   "outputs": [],
   "source": []
  },
  {
   "cell_type": "code",
   "execution_count": 211,
   "metadata": {},
   "outputs": [
    {
     "data": {
      "image/png": "[encoded data removed]",
      "text/plain": [
       "<Figure size 1000x600 with 1 Axes>"
      ]
     },
     "metadata": {},
     "output_type": "display_data"
    }
   ],
   "source": [
    "df_crime_full_y.groupby(['reported_date'])['offence_count'].sum().reset_index()\n",
    "\n",
    "y = pd.to_datetime(df_crime_full_y['offence_count'])\n",
    "x = df_crime_full_y['reported_date']\n",
    "\n",
    "# Create a scatter plot\n",
    "plt.figure(figsize=(10, 6), facecolor='#001133')  # Set the figure size and background color\n",
    "ax = plt.gca()  # Get current axis\n",
    "ax.set_facecolor('#001133')  # Set the background color for the plot area\n",
    "\n",
    "plt.scatter(x, y, color='#00DDFF', edgecolor='#00DDFF', s=100, alpha=0.8, linewidth=1.5)\n",
    "plt.title('Number of Offences per Year in your Region', fontsize=16, color='#00DDFF')\n",
    "plt.xlabel('Date', fontsize=14, color='#00DDFF')\n",
    "plt.ylabel('Offence Count', fontsize=14, color='#00DDFF')\n",
    "ax.tick_params(axis='x', colors='#00DDFF')\n",
    "ax.tick_params(axis='y', colors='#00DDFF')\n",
    "plt.grid(True, linestyle='--', color='#555555', alpha=0.5)\n",
    "plt.tight_layout()\n",
    "plt.show()"
   ]
  },
  {
   "cell_type": "markdown",
   "metadata": {},
   "source": [
    "### Does Weather impacts Crimes in your area"
   ]
  },
  {
   "cell_type": "code",
   "execution_count": 185,
   "metadata": {},
   "outputs": [
    {
     "name": "stdout",
     "output_type": "stream",
     "text": [
      "{'Status': 200, 'Data': [{'UV': '6.22', 'Max Humid': '91', 'created_at': '2024-05-17T00:41:37.845687\n",
      "Called weather api, fetched 3648 lines\n",
      "{'Status': 200, 'Token': 'FGluY2x1ZGVfY29udGV4dF91dWlkDnF1ZXJ5VGhlbkZldGNoBRZjQkFfMHB6Q1E5MjlNcXFHcm\n",
      "Called crime api, fetched 8000 lines\n",
      "Called stream 1 times, fetched 8000 new lines\n",
      "Called stream 2 times, fetched 8000 new lines\n",
      "Called stream 3 times, fetched 1079 new lines\n",
      "Called stream 4 times, fetched 0 new lines\n",
      "Fetched a total of 25079lines\n"
     ]
    }
   ],
   "source": [
    "# Fetching data and computing \n",
    "df_weather_full = weather_to_pd(station_id=STATION_ID, start_year=2014, end_year=2024, verb=True)\n",
    "df_weather = clean_weather_pd(df_weather_full)\n",
    "df_crime_full = get_stream_to_pd(api='crime', station_id=STATION_ID, size=8000, radius_km=RADIUS, verb=True)\n",
    "df_crime = clean_crime_df(df_crime_full)\n",
    "df = pd.merge(df_weather, df_crime, on='date', how='inner')"
   ]
  },
  {
   "cell_type": "code",
   "execution_count": 188,
   "metadata": {},
   "outputs": [
    {
     "data": {
      "text/html": [
       "<div>\n",
       "<style scoped>\n",
       "    .dataframe tbody tr th:only-of-type {\n",
       "        vertical-align: middle;\n",
       "    }\n",
       "\n",
       "    .dataframe tbody tr th {\n",
       "        vertical-align: top;\n",
       "    }\n",
       "\n",
       "    .dataframe thead th {\n",
       "        text-align: right;\n",
       "    }\n",
       "</style>\n",
       "<table border=\"1\" class=\"dataframe\">\n",
       "  <thead>\n",
       "    <tr style=\"text-align: right;\">\n",
       "      <th></th>\n",
       "      <th>Predictors</th>\n",
       "      <th>Coefficient</th>\n",
       "    </tr>\n",
       "  </thead>\n",
       "  <tbody>\n",
       "    <tr>\n",
       "      <th>0</th>\n",
       "      <td>UV</td>\n",
       "      <td>0.020749</td>\n",
       "    </tr>\n",
       "    <tr>\n",
       "      <th>1</th>\n",
       "      <td>Max Humid</td>\n",
       "      <td>0.002113</td>\n",
       "    </tr>\n",
       "    <tr>\n",
       "      <th>2</th>\n",
       "      <td>Min Temp</td>\n",
       "      <td>0.000772</td>\n",
       "    </tr>\n",
       "    <tr>\n",
       "      <th>3</th>\n",
       "      <td>WindSpeed</td>\n",
       "      <td>0.010774</td>\n",
       "    </tr>\n",
       "    <tr>\n",
       "      <th>4</th>\n",
       "      <td>Min Humid</td>\n",
       "      <td>0.003474</td>\n",
       "    </tr>\n",
       "    <tr>\n",
       "      <th>5</th>\n",
       "      <td>Rain</td>\n",
       "      <td>0.002910</td>\n",
       "    </tr>\n",
       "    <tr>\n",
       "      <th>6</th>\n",
       "      <td>Pan-Rain</td>\n",
       "      <td>0.012349</td>\n",
       "    </tr>\n",
       "    <tr>\n",
       "      <th>7</th>\n",
       "      <td>Max Temp</td>\n",
       "      <td>0.014014</td>\n",
       "    </tr>\n",
       "    <tr>\n",
       "      <th>8</th>\n",
       "      <td>Evapo-Rain</td>\n",
       "      <td>-0.051568</td>\n",
       "    </tr>\n",
       "  </tbody>\n",
       "</table>\n",
       "</div>"
      ],
      "text/plain": [
       "   Predictors  Coefficient\n",
       "0          UV     0.020749\n",
       "1   Max Humid     0.002113\n",
       "2    Min Temp     0.000772\n",
       "3   WindSpeed     0.010774\n",
       "4   Min Humid     0.003474\n",
       "5        Rain     0.002910\n",
       "6    Pan-Rain     0.012349\n",
       "7    Max Temp     0.014014\n",
       "8  Evapo-Rain    -0.051568"
      ]
     },
     "execution_count": 188,
     "metadata": {},
     "output_type": "execute_result"
    }
   ],
   "source": [
    "df_pers = df[df['description_1'] == 'OFFENCES AGAINST THE PERSON']\n",
    "df_pers = df_pers.drop(columns=['description_1', 'date', 'state'])\n",
    "\n",
    "lin_model_pers = LinearRegression()\n",
    "lin_model_pers.fit(df_pers.drop(columns='offence_count').values, df_pers['offence_count'])\n",
    "pd.DataFrame({'Predictors': df_pers.columns[:-1], 'Coefficient': lin_model_pers.coef_})"
   ]
  },
  {
   "cell_type": "code",
   "execution_count": 201,
   "metadata": {},
   "outputs": [
    {
     "data": {
      "text/plain": [
       "array([1.38109025])"
      ]
     },
     "execution_count": 201,
     "metadata": {},
     "output_type": "execute_result"
    }
   ],
   "source": [
    "import numpy as np\n",
    "lin_model_pers.predict(np.array([1.1, 2.2, 1.1, 2.8,.1, 2.2,1.1, 2.2,1.1]).reshape(1,-1))"
   ]
  },
  {
   "cell_type": "markdown",
   "metadata": {},
   "source": [
    "### Get predictions "
   ]
  },
  {
   "cell_type": "code",
   "execution_count": 189,
   "metadata": {},
   "outputs": [],
   "source": [
    "with open(f'lin_model_crime_pers_VIC.pkl', 'wb') as f:\n",
    "    pickle.dump(lin_model_pers, f)"
   ]
  },
  {
   "cell_type": "code",
   "execution_count": 198,
   "metadata": {},
   "outputs": [
    {
     "name": "stdout",
     "output_type": "stream",
     "text": [
      "{\"prediction\":3.9000000000000026}\n",
      "\n"
     ]
    }
   ],
   "source": [
    "# Get predictions\n",
    "values = [3.1, -1.1]\n",
    "response = get_prediction_from_api('lin_reg_model_test', values)\n",
    "print(response.text)"
   ]
  },
  {
   "cell_type": "code",
   "execution_count": null,
   "metadata": {},
   "outputs": [],
   "source": []
  }
 ],
 "metadata": {
  "kernelspec": {
   "display_name": "Python 3 (ipykernel)",
   "language": "python",
   "name": "python3"
  },
  "language_info": {
   "codemirror_mode": {
    "name": "ipython",
    "version": 3
   },
   "file_extension": ".py",
   "mimetype": "text/x-python",
   "name": "python",
   "nbconvert_exporter": "python",
   "pygments_lexer": "ipython3",
   "version": "3.11.2"
  }
 },
 "nbformat": 4,
 "nbformat_minor": 4
}
