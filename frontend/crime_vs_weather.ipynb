{
 "cells": [
  {
   "cell_type": "code",
   "execution_count": 10,
   "metadata": {},
   "outputs": [],
   "source": [
    "import warnings\n",
    "warnings.filterwarnings(\"ignore\")\n",
    "\n",
    "import numpy as np\n",
    "import pandas as pd\n",
    "from datetime import datetime\n",
    "from tqdm import tqdm\n",
    "import matplotlib.pyplot as plt\n",
    "\n",
    "import requests\n",
    "from elasticsearch import Elasticsearch\n",
    "from elasticsearch.helpers import scan\n",
    "\n",
    "from sklearn.linear_model import LinearRegression\n",
    "\n",
    "from data_to_jupyter import time_range_query, query_to_pandas, \\\n",
    "                            fetch_weather_crime,call_fission_function"
   ]
  },
  {
   "cell_type": "code",
   "execution_count": 5,
   "metadata": {},
   "outputs": [
    {
     "name": "stdout",
     "output_type": "stream",
     "text": [
      "--Connected to Elastic Search--\n",
      "{'query': {'range': {'Date': {'gte': '01/01/2014', 'lt': '04/01/2014'}}}}\n"
     ]
    },
    {
     "name": "stderr",
     "output_type": "stream",
     "text": [
      "Fetching weather_past_obs index: 27it [00:00, 1079.37it/s]"
     ]
    },
    {
     "name": "stdout",
     "output_type": "stream",
     "text": [
      "{'query': {'range': {'reported_date': {'gte': '2014-01-01T00:00:00', 'lt': '2014-04-01T00:00:00'}}}}\n"
     ]
    },
    {
     "name": "stderr",
     "output_type": "stream",
     "text": [
      "\n",
      "Fetching crimes index: 100%|██████████| 22347/22347 [00:27<00:00, 798.57it/s] "
     ]
    },
    {
     "name": "stdout",
     "output_type": "stream",
     "text": [
      "\n",
      "Weather dataframe shape: (27, 12),\n",
      "Index(['UV', 'Max Humid', 'Min Temp', 'WindSpeed', 'Min Humid', 'Station Name',\n",
      "       'date', 'Rain', 'Pan-Rain', 'State', 'Max Temp', 'Evapo-Rain'],\n",
      "      dtype='object')\n",
      "\n",
      "Crimes dataframe shape: (22347, 7),\n",
      "Index(['date', 'suburb', 'postcode', 'description_1', 'description_2',\n",
      "       'description_3', 'offence_count'],\n",
      "      dtype='object')\n"
     ]
    },
    {
     "name": "stderr",
     "output_type": "stream",
     "text": [
      "\n"
     ]
    }
   ],
   "source": [
    "time_range = ['2014-01-01','2014-04-01']\n",
    "\n",
    "df_crimes, df_weather = fetch_weather_crime(time_range, run_from='uni_wifi')\n",
    "\n",
    "print(f'\\nWeather dataframe shape: {df_weather.shape},\\n{df_weather.columns}')\n",
    "print(f'\\nCrimes dataframe shape: {df_crimes.shape},\\n{df_crimes.columns}')"
   ]
  },
  {
   "cell_type": "code",
   "execution_count": 6,
   "metadata": {},
   "outputs": [
    {
     "data": {
      "text/plain": [
       "date        postcode       description_1              \n",
       "2014-01-01  5000           OFFENCES AGAINST PROPERTY      12.0\n",
       "                           OFFENCES AGAINST THE PERSON    10.0\n",
       "            5007           OFFENCES AGAINST PROPERTY       2.0\n",
       "            5008           OFFENCES AGAINST PROPERTY       5.0\n",
       "                           OFFENCES AGAINST THE PERSON     1.0\n",
       "                                                          ... \n",
       "2014-03-31  5690           OFFENCES AGAINST PROPERTY       1.0\n",
       "            5700           OFFENCES AGAINST PROPERTY       4.0\n",
       "            5723           OFFENCES AGAINST PROPERTY       3.0\n",
       "            5725           OFFENCES AGAINST THE PERSON     1.0\n",
       "            NOT DISCLOSED  OFFENCES AGAINST THE PERSON    10.0\n",
       "Name: offence_count, Length: 12133, dtype: float64"
      ]
     },
     "execution_count": 6,
     "metadata": {},
     "output_type": "execute_result"
    }
   ],
   "source": [
    "df_crime_type = df_crimes.groupby(['date','postcode','description_1'])['offence_count'].sum()\n",
    "df_crime_type"
   ]
  },
  {
   "cell_type": "code",
   "execution_count": 7,
   "metadata": {},
   "outputs": [
    {
     "data": {
      "text/plain": [
       "date        postcode     \n",
       "2014-01-01  5000             22.0\n",
       "            5007              2.0\n",
       "            5008              6.0\n",
       "            5009              2.0\n",
       "            5010              1.0\n",
       "                             ... \n",
       "2014-03-31  5690              1.0\n",
       "            5700              4.0\n",
       "            5723              3.0\n",
       "            5725              1.0\n",
       "            NOT DISCLOSED    10.0\n",
       "Name: offence_count, Length: 9559, dtype: float64"
      ]
     },
     "execution_count": 7,
     "metadata": {},
     "output_type": "execute_result"
    }
   ],
   "source": [
    "df_crime_type = df_crimes.groupby(['date','postcode'])['offence_count'].sum()\n",
    "df_crime_type"
   ]
  },
  {
   "cell_type": "code",
   "execution_count": null,
   "metadata": {},
   "outputs": [],
   "source": []
  }
 ],
 "metadata": {
  "kernelspec": {
   "display_name": "Python 3",
   "language": "python",
   "name": "python3"
  },
  "language_info": {
   "codemirror_mode": {
    "name": "ipython",
    "version": 3
   },
   "file_extension": ".py",
   "mimetype": "text/x-python",
   "name": "python",
   "nbconvert_exporter": "python",
   "pygments_lexer": "ipython3",
   "version": "3.11.2"
  }
 },
 "nbformat": 4,
 "nbformat_minor": 2
}
