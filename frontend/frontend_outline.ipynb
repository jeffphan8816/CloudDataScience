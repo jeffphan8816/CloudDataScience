{
 "cells": [
  {
   "cell_type": "markdown",
   "metadata": {},
   "source": [
    "# Frontend outline:\n",
    "Single or multiple notebooks?\n",
    "\n",
    "\n",
    "## Interactions\n",
    "- Map selector -> lat/long\n",
    "\n",
    "### Show current weather (closest station)\n",
    "lat/long \n",
    "    -> GET fission API closest station \n",
    "    -> GET fission API live weather from station\n",
    "    -> Present as table with most recent obs?\n",
    "    -> (if time) LLM request to describe current weather based on result\n",
    "\n",
    "### Show recent (hourly) observations from station \n",
    "closest station ID (from above)\n",
    "    -> GET fission API hourly weather from ES (past 3 observations?)\n",
    "    -> Graph with some change over time - maybe temp/rain?\n",
    "\n",
    "### Show current air quality\n",
    "Anything here?\n",
    "\n",
    "\n",
    "## Model predictions\n",
    "### Crime - Seperate notebook\n",
    "closest station\n",
    "    -> user enter radius\n",
    "    -> train model API call\n",
    "    -> API call model predictions\n",
    "\n",
    "### Crashes - Seperate notebook\n",
    "\n",
    "\n",
    "### Airquality/Weather - Seperate notebook\n",
    "Weather -> particles\n",
    "\n",
    "\n",
    "\n",
    "## Other historical data\n",
    "Go in relevant notebook\n",
    "\n",
    "\n",
    "## Architecture/Process \n",
    "What should we include \n",
    "\n"
   ]
  }
 ],
 "metadata": {
  "kernelspec": {
   "display_name": "Python 3",
   "language": "python",
   "name": "python3"
  },
  "language_info": {
   "codemirror_mode": {
    "name": "ipython",
    "version": 3
   },
   "file_extension": ".py",
   "mimetype": "text/x-python",
   "name": "python",
   "nbconvert_exporter": "python",
   "pygments_lexer": "ipython3",
   "version": "3.10.2"
  }
 },
 "nbformat": 4,
 "nbformat_minor": 2
}
